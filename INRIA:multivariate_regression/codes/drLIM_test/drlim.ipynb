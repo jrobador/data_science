{
 "cells": [
  {
   "cell_type": "code",
   "execution_count": 1,
   "metadata": {},
   "outputs": [
    {
     "name": "stderr",
     "output_type": "stream",
     "text": [
      "/home/jrobador/anaconda3/envs/INRIA/lib/python3.11/site-packages/torchvision/io/image.py:13: UserWarning: Failed to load image Python extension: 'libc10_cuda.so: cannot open shared object file: No such file or directory'If you don't plan on using image functionality from `torchvision.io`, you can ignore this warning. Otherwise, there might be something wrong with your environment. Did you have `libjpeg` or `libpng` installed before building `torchvision` from source?\n",
      "  warn(\n"
     ]
    }
   ],
   "source": [
    "import torch\n",
    "import torch.nn as nn\n",
    "import torch.nn.functional as F\n",
    "import matplotlib.pyplot as plt\n",
    "\n",
    "from torch import optim\n",
    "from torchvision import datasets\n",
    "import torchvision.transforms as transforms\n",
    "from torch.utils.data import DataLoader\n",
    "import os\n",
    "from torchvision import utils\n",
    "import torchvision\n",
    "\n",
    "\n",
    "from torch import nn\n",
    "from torch import Tensor\n",
    "from PIL import Image\n",
    "from torchvision.transforms import Compose, Resize, ToTensor\n",
    "from einops import rearrange, reduce, repeat\n",
    "from einops.layers.torch import Rearrange, Reduce\n",
    "from torchsummary import summary\n",
    "import numpy as np\n",
    "import time\n",
    "import copy\n",
    "import random\n",
    "from tqdm.auto import tqdm\n",
    "import math\n",
    "\n",
    "# Device configuration\n",
    "device = torch.device('cuda' if torch.cuda.is_available() else 'cpu')"
   ]
  },
  {
   "cell_type": "code",
   "execution_count": 2,
   "metadata": {},
   "outputs": [],
   "source": [
    "transforms = transforms.Compose([\n",
    "    transforms.ToTensor(),\n",
    "    transforms.Resize(32),\n",
    "])\n",
    "\n",
    "train = torchvision.datasets.MNIST(root = \"./\", train = True, download = True, transform = transforms)\n",
    "test = torchvision.datasets.MNIST(root = \"./\", train = False, download = True, transform = transforms)"
   ]
  },
  {
   "cell_type": "code",
   "execution_count": 3,
   "metadata": {},
   "outputs": [
    {
     "name": "stderr",
     "output_type": "stream",
     "text": [
      "/home/jrobador/anaconda3/envs/INRIA/lib/python3.11/site-packages/torchvision/transforms/functional.py:1603: UserWarning: The default value of the antialias parameter of all the resizing transforms (Resize(), RandomResizedCrop(), etc.) will change from None to True in v0.17, in order to be consistent across the PIL and Tensor backends. To suppress this warning, directly pass antialias=True (recommended, future default), antialias=None (current default, which means False for Tensors and True for PIL), or antialias=False (only works on Tensors - PIL will still use antialiasing). This also applies if you are using the inference transforms from the models weights: update the call to weights.transforms(antialias=True).\n",
      "  warnings.warn(\n"
     ]
    }
   ],
   "source": [
    "f_cnt, n_cnt = 0, 0\n",
    "train_four, train_nine = [], []\n",
    "test_four, test_nine = [], []\n",
    "\n",
    "def transform_degree_n6(img):\n",
    "    return torchvision.transforms.functional.rotate(img = img, angle = -6)\n",
    "\n",
    "def transform_degree_n3(img):\n",
    "    return torchvision.transforms.functional.rotate(img = img, angle = -3)\n",
    "\n",
    "def transform_degree_3(img):\n",
    "    return torchvision.transforms.functional.rotate(img = img, angle = 3)\n",
    "\n",
    "def transform_pixel(img):\n",
    "    for i in range(6):\n",
    "       coord = np.random.randint(0, img.shape[1], size = 2)\n",
    "       img[0, coord[0], coord[1]] = 0\n",
    "    \n",
    "    return img\n",
    "\n",
    "def aug_func(idx, img):\n",
    "    if i == 0: img = transform_degree_n6(img)\n",
    "    if i == 1: img = transform_degree_n3(img)\n",
    "    if i == 2: img = transform_degree_3(img)\n",
    "    if i == 3: img = transform_pixel(img)\n",
    "    return img\n",
    "\n",
    "for img, label in train:\n",
    "    if label == 4:\n",
    "\n",
    "        if f_cnt < 3000: \n",
    "            train_four.append(img)\n",
    "            for i in range(0, 4): train_four.append(aug_func(i, img))\n",
    "            f_cnt+=1\n",
    "\n",
    "        elif f_cnt < 4000: test_four.append(img); f_cnt+=1\n",
    "    \n",
    "    elif label == 9: \n",
    "        if n_cnt < 3000: \n",
    "            train_nine.append(img)\n",
    "            for i in range(0, 4): train_nine.append(aug_func(i, img))\n",
    "            n_cnt+=1\n",
    "        elif n_cnt < 4000: test_nine.append(img); n_cnt+=1"
   ]
  },
  {
   "cell_type": "code",
   "execution_count": 4,
   "metadata": {},
   "outputs": [
    {
     "name": "stdout",
     "output_type": "stream",
     "text": [
      "900\n"
     ]
    }
   ],
   "source": [
    "test_four, test_nine = [], []\n",
    "f_cnt, n_cnt = 0, 0\n",
    "\n",
    "for img, label in test:\n",
    "    if label == 4 and f_cnt < 900: # test nine has not enough images\n",
    "        test_four.append(img)\n",
    "        f_cnt += 1\n",
    "    \n",
    "    elif label == 9 and n_cnt < 900:\n",
    "        test_nine.append(img)\n",
    "        n_cnt += 1\n",
    "\n",
    "print (len(test_four))"
   ]
  },
  {
   "cell_type": "code",
   "execution_count": 5,
   "metadata": {},
   "outputs": [
    {
     "name": "stdout",
     "output_type": "stream",
     "text": [
      "torch.Size([1, 32, 32])\n"
     ]
    },
    {
     "data": {
      "image/png": "[encoded data removed]",
      "text/plain": [
       "<Figure size 640x480 with 2 Axes>"
      ]
     },
     "metadata": {},
     "output_type": "display_data"
    }
   ],
   "source": [
    "for f, n in zip(train_four, train_nine):\n",
    "    plt.subplot(1, 2, 1); plt.imshow(f.permute(1,2,0))\n",
    "    plt.subplot(1, 2, 2); plt.imshow(n.permute(1,2,0))    \n",
    "    print(f.shape)\n",
    "    break"
   ]
  },
  {
   "cell_type": "code",
   "execution_count": 16,
   "metadata": {},
   "outputs": [
    {
     "name": "stdout",
     "output_type": "stream",
     "text": [
      "<class 'list'>\n"
     ]
    }
   ],
   "source": [
    "train_f = [(img, 0) for img in train_four]\n",
    "train_n = [(img, 1) for img in train_nine]\n",
    "\n",
    "test_f = [(img, 0) for img in test_four]\n",
    "test_n = [(img, 1) for img in test_nine]\n",
    "\n",
    "train = train_f + train_n\n",
    "test = test_f + test_n\n",
    "\n",
    "random.shuffle(train)\n",
    "random.shuffle(test)\n",
    "\n",
    "traindata = [(img1[0], img2[0], 0) if img1[1] == img2[1] else (img1[0], img2[0], 1) for img1, img2 in zip(train[0::2], train[1::2])]"
   ]
  },
  {
   "cell_type": "code",
   "execution_count": 7,
   "metadata": {},
   "outputs": [],
   "source": [
    "## ENCODER NETWORK\n",
    "\n",
    "class DrLIM(nn.Module):\n",
    "\n",
    "    def __init__(self):\n",
    "        super().__init__()\n",
    "        self.layer1 = nn.Conv2d(in_channels = 1, out_channels = 15, kernel_size = 6, padding = 0, stride = 1)\n",
    "        self.relu = nn.ReLU()\n",
    "        self.subsampling = nn.MaxPool2d(kernel_size = 3, stride = 3)\n",
    "        self.layer2 = nn.Conv2d(in_channels = 15, out_channels = 30, kernel_size = 9, padding = 0, stride = 1)\n",
    "        self.fc = nn.Linear(15, 1)\n",
    "\n",
    "    def forward(self, x):\n",
    "        x = self.layer1(x)\n",
    "        x = self.relu(x)\n",
    "        x = self.subsampling(x)\n",
    "        x = self.layer2(x)\n",
    "       \n",
    "        x = self.relu(x)\n",
    "        x = self.fc(x)\n",
    "        return x\n",
    "    "
   ]
  },
  {
   "cell_type": "code",
   "execution_count": 8,
   "metadata": {},
   "outputs": [],
   "source": [
    "def CL_Loss(x1, x2, Y, m = 1):\n",
    "    Euclidean_norm = torch.sqrt((x1 - x2)**2) # Euclidean Distance\n",
    "    return torch.mean((1-Y).reshape(-1, 1, 1) * 1/2 * Euclidean_norm**2 + Y.reshape(-1, 1, 1) * 1/2 * torch.maximum(torch.Tensor([0]).to(device), m - Euclidean_norm)**2)"
   ]
  },
  {
   "cell_type": "code",
   "execution_count": 19,
   "metadata": {},
   "outputs": [
    {
     "data": {
      "application/vnd.jupyter.widget-view+json": {
       "model_id": "4ed532b3f9a94656811581e43688f3f9",
       "version_major": 2,
       "version_minor": 0
      },
      "text/plain": [
       "  0%|          | 0/24 [00:00<?, ?it/s]"
      ]
     },
     "metadata": {},
     "output_type": "display_data"
    },
    {
     "data": {
      "text/plain": [
       "<tqdm.auto.tqdm at 0x766a46a480d0>"
      ]
     },
     "execution_count": 19,
     "metadata": {},
     "output_type": "execute_result"
    }
   ],
   "source": [
    "trainloader = DataLoader(traindata[3000:], batch_size=128, shuffle=True)\n",
    "validloader = DataLoader(traindata[:3000], batch_size=128, shuffle=True)\n",
    "trainloader.__len__(), validloader.__len__()\n",
    "tqdm(validloader)"
   ]
  },
  {
   "cell_type": "code",
   "execution_count": 10,
   "metadata": {},
   "outputs": [
    {
     "data": {
      "application/vnd.jupyter.widget-view+json": {
       "model_id": "7ec2dac341ab49f69ff3447a9061a541",
       "version_major": 2,
       "version_minor": 0
      },
      "text/plain": [
       "  0%|          | 0/94 [00:00<?, ?it/s]"
      ]
     },
     "metadata": {},
     "output_type": "display_data"
    },
    {
     "name": "stderr",
     "output_type": "stream",
     "text": [
      "/tmp/ipykernel_169220/703325166.py:29: UserWarning: To copy construct from a tensor, it is recommended to use sourceTensor.clone().detach() or sourceTensor.clone().detach().requires_grad_(True), rather than torch.tensor(sourceTensor).\n",
      "  y = torch.tensor(y, dtype = torch.float64).to(device)\n",
      "/tmp/ipykernel_169220/703325166.py:42: UserWarning: To copy construct from a tensor, it is recommended to use sourceTensor.clone().detach() or sourceTensor.clone().detach().requires_grad_(True), rather than torch.tensor(sourceTensor).\n",
      "  ans = torch.tensor((Gw_x1[:, 0] < Gw_x1[:, 1]) != (Gw_x2[:, 0] < Gw_x2[:, 1]), dtype=torch.float64) # Similar to Contrastive Leaning Loss\n"
     ]
    },
    {
     "data": {
      "application/vnd.jupyter.widget-view+json": {
       "model_id": "3eab4bf741c14031a95d1cf8f4d8abc7",
       "version_major": 2,
       "version_minor": 0
      },
      "text/plain": [
       "  0%|          | 0/24 [00:00<?, ?it/s]"
      ]
     },
     "metadata": {},
     "output_type": "display_data"
    },
    {
     "name": "stderr",
     "output_type": "stream",
     "text": [
      "/tmp/ipykernel_169220/703325166.py:55: UserWarning: To copy construct from a tensor, it is recommended to use sourceTensor.clone().detach() or sourceTensor.clone().detach().requires_grad_(True), rather than torch.tensor(sourceTensor).\n",
      "  y = torch.tensor(y, dtype = torch.float64).to(device)\n",
      "/tmp/ipykernel_169220/703325166.py:65: UserWarning: To copy construct from a tensor, it is recommended to use sourceTensor.clone().detach() or sourceTensor.clone().detach().requires_grad_(True), rather than torch.tensor(sourceTensor).\n",
      "  ans = torch.tensor((Gw_x1[:, 0] < Gw_x1[:, 1]) != (Gw_x2[:, 0] < Gw_x2[:, 1]), dtype=torch.float64)\n"
     ]
    },
    {
     "name": "stdout",
     "output_type": "stream",
     "text": [
      "Epoch 1/200.. Train loss: 0.233.. Train acc: 0.509.. val loss: 0.227.. val accuracy: 0.529\n",
      "Validation acc increased (0.000000 --> 0.529436).  Saving model ...\n"
     ]
    },
    {
     "data": {
      "application/vnd.jupyter.widget-view+json": {
       "model_id": "209e1e48468a4f6e864552e5bf6ff777",
       "version_major": 2,
       "version_minor": 0
      },
      "text/plain": [
       "  0%|          | 0/94 [00:00<?, ?it/s]"
      ]
     },
     "metadata": {},
     "output_type": "display_data"
    },
    {
     "data": {
      "application/vnd.jupyter.widget-view+json": {
       "model_id": "cb55a106fea54fbe8c291d6622981ad8",
       "version_major": 2,
       "version_minor": 0
      },
      "text/plain": [
       "  0%|          | 0/24 [00:00<?, ?it/s]"
      ]
     },
     "metadata": {},
     "output_type": "display_data"
    },
    {
     "name": "stdout",
     "output_type": "stream",
     "text": [
      "Epoch 2/200.. Train loss: 0.226.. Train acc: 0.546.. val loss: 0.221.. val accuracy: 0.549\n",
      "Validation acc increased (0.529436 --> 0.549293).  Saving model ...\n"
     ]
    },
    {
     "data": {
      "application/vnd.jupyter.widget-view+json": {
       "model_id": "defb7ac1b1ba40bb98112eaf1a99ceb3",
       "version_major": 2,
       "version_minor": 0
      },
      "text/plain": [
       "  0%|          | 0/94 [00:00<?, ?it/s]"
      ]
     },
     "metadata": {},
     "output_type": "display_data"
    },
    {
     "data": {
      "application/vnd.jupyter.widget-view+json": {
       "model_id": "5d7902961b7643f9bc31e3b776d147d0",
       "version_major": 2,
       "version_minor": 0
      },
      "text/plain": [
       "  0%|          | 0/24 [00:00<?, ?it/s]"
      ]
     },
     "metadata": {},
     "output_type": "display_data"
    },
    {
     "name": "stdout",
     "output_type": "stream",
     "text": [
      "Epoch 3/200.. Train loss: 0.218.. Train acc: 0.583.. val loss: 0.213.. val accuracy: 0.576\n",
      "Validation acc increased (0.549293 --> 0.575614).  Saving model ...\n"
     ]
    },
    {
     "data": {
      "application/vnd.jupyter.widget-view+json": {
       "model_id": "5f70e33a18964e21b61b33d138f18622",
       "version_major": 2,
       "version_minor": 0
      },
      "text/plain": [
       "  0%|          | 0/94 [00:00<?, ?it/s]"
      ]
     },
     "metadata": {},
     "output_type": "display_data"
    },
    {
     "data": {
      "application/vnd.jupyter.widget-view+json": {
       "model_id": "5ce31bca983444b3b822ba96f9a9e152",
       "version_major": 2,
       "version_minor": 0
      },
      "text/plain": [
       "  0%|          | 0/24 [00:00<?, ?it/s]"
      ]
     },
     "metadata": {},
     "output_type": "display_data"
    },
    {
     "name": "stdout",
     "output_type": "stream",
     "text": [
      "Epoch 4/200.. Train loss: 0.210.. Train acc: 0.596.. val loss: 0.205.. val accuracy: 0.585\n",
      "Validation acc increased (0.575614 --> 0.585426).  Saving model ...\n"
     ]
    },
    {
     "data": {
      "application/vnd.jupyter.widget-view+json": {
       "model_id": "4a0a38ed4d714d6bbead54d4467a0e06",
       "version_major": 2,
       "version_minor": 0
      },
      "text/plain": [
       "  0%|          | 0/94 [00:00<?, ?it/s]"
      ]
     },
     "metadata": {},
     "output_type": "display_data"
    },
    {
     "data": {
      "application/vnd.jupyter.widget-view+json": {
       "model_id": "bb3e4f8919014cccbbe4f0b954551bd8",
       "version_major": 2,
       "version_minor": 0
      },
      "text/plain": [
       "  0%|          | 0/24 [00:00<?, ?it/s]"
      ]
     },
     "metadata": {},
     "output_type": "display_data"
    },
    {
     "name": "stdout",
     "output_type": "stream",
     "text": [
      "Epoch 5/200.. Train loss: 0.202.. Train acc: 0.605.. val loss: 0.197.. val accuracy: 0.588\n",
      "Validation acc increased (0.585426 --> 0.587565).  Saving model ...\n"
     ]
    },
    {
     "data": {
      "application/vnd.jupyter.widget-view+json": {
       "model_id": "b0ef720c0e894e7dbe4287b216b9ef46",
       "version_major": 2,
       "version_minor": 0
      },
      "text/plain": [
       "  0%|          | 0/94 [00:00<?, ?it/s]"
      ]
     },
     "metadata": {},
     "output_type": "display_data"
    },
    {
     "data": {
      "application/vnd.jupyter.widget-view+json": {
       "model_id": "4498bf7142d44e2da7c8f8a6980d0681",
       "version_major": 2,
       "version_minor": 0
      },
      "text/plain": [
       "  0%|          | 0/24 [00:00<?, ?it/s]"
      ]
     },
     "metadata": {},
     "output_type": "display_data"
    },
    {
     "name": "stdout",
     "output_type": "stream",
     "text": [
      "Epoch 6/200.. Train loss: 0.194.. Train acc: 0.602.. val loss: 0.190.. val accuracy: 0.583\n"
     ]
    },
    {
     "data": {
      "application/vnd.jupyter.widget-view+json": {
       "model_id": "a2fdf0dfc5354903bba10a4fd2d601d1",
       "version_major": 2,
       "version_minor": 0
      },
      "text/plain": [
       "  0%|          | 0/94 [00:00<?, ?it/s]"
      ]
     },
     "metadata": {},
     "output_type": "display_data"
    },
    {
     "data": {
      "application/vnd.jupyter.widget-view+json": {
       "model_id": "fd55729301cf419299cb2e5e6783459b",
       "version_major": 2,
       "version_minor": 0
      },
      "text/plain": [
       "  0%|          | 0/24 [00:00<?, ?it/s]"
      ]
     },
     "metadata": {},
     "output_type": "display_data"
    },
    {
     "name": "stdout",
     "output_type": "stream",
     "text": [
      "Epoch 7/200.. Train loss: 0.187.. Train acc: 0.603.. val loss: 0.182.. val accuracy: 0.586\n"
     ]
    },
    {
     "data": {
      "application/vnd.jupyter.widget-view+json": {
       "model_id": "dba817f3015b4b2ab4c247a8ff757ef4",
       "version_major": 2,
       "version_minor": 0
      },
      "text/plain": [
       "  0%|          | 0/94 [00:00<?, ?it/s]"
      ]
     },
     "metadata": {},
     "output_type": "display_data"
    },
    {
     "data": {
      "application/vnd.jupyter.widget-view+json": {
       "model_id": "61f95d78b3884db9a7d586fe67dd9863",
       "version_major": 2,
       "version_minor": 0
      },
      "text/plain": [
       "  0%|          | 0/24 [00:00<?, ?it/s]"
      ]
     },
     "metadata": {},
     "output_type": "display_data"
    },
    {
     "name": "stdout",
     "output_type": "stream",
     "text": [
      "Epoch 8/200.. Train loss: 0.180.. Train acc: 0.602.. val loss: 0.176.. val accuracy: 0.587\n"
     ]
    },
    {
     "data": {
      "application/vnd.jupyter.widget-view+json": {
       "model_id": "198a3ffde2764f9b969019dacd67be6e",
       "version_major": 2,
       "version_minor": 0
      },
      "text/plain": [
       "  0%|          | 0/94 [00:00<?, ?it/s]"
      ]
     },
     "metadata": {},
     "output_type": "display_data"
    },
    {
     "data": {
      "application/vnd.jupyter.widget-view+json": {
       "model_id": "fd78c9333fb1450d989ec39fee06a65b",
       "version_major": 2,
       "version_minor": 0
      },
      "text/plain": [
       "  0%|          | 0/24 [00:00<?, ?it/s]"
      ]
     },
     "metadata": {},
     "output_type": "display_data"
    },
    {
     "name": "stdout",
     "output_type": "stream",
     "text": [
      "Epoch 9/200.. Train loss: 0.173.. Train acc: 0.601.. val loss: 0.169.. val accuracy: 0.585\n"
     ]
    },
    {
     "data": {
      "application/vnd.jupyter.widget-view+json": {
       "model_id": "46a3bc3261c04ebe969ae553c65a0382",
       "version_major": 2,
       "version_minor": 0
      },
      "text/plain": [
       "  0%|          | 0/94 [00:00<?, ?it/s]"
      ]
     },
     "metadata": {},
     "output_type": "display_data"
    },
    {
     "data": {
      "application/vnd.jupyter.widget-view+json": {
       "model_id": "82fdeb2b220d4ea7b186cc6d634a122c",
       "version_major": 2,
       "version_minor": 0
      },
      "text/plain": [
       "  0%|          | 0/24 [00:00<?, ?it/s]"
      ]
     },
     "metadata": {},
     "output_type": "display_data"
    },
    {
     "name": "stdout",
     "output_type": "stream",
     "text": [
      "Epoch 10/200.. Train loss: 0.167.. Train acc: 0.601.. val loss: 0.164.. val accuracy: 0.595\n",
      "Validation acc increased (0.587565 --> 0.594727).  Saving model ...\n"
     ]
    },
    {
     "data": {
      "application/vnd.jupyter.widget-view+json": {
       "model_id": "5bb7b089cf7e4c6993eb0d9f594af420",
       "version_major": 2,
       "version_minor": 0
      },
      "text/plain": [
       "  0%|          | 0/94 [00:00<?, ?it/s]"
      ]
     },
     "metadata": {},
     "output_type": "display_data"
    },
    {
     "data": {
      "application/vnd.jupyter.widget-view+json": {
       "model_id": "1001a7086275475c8c57b389b533a18d",
       "version_major": 2,
       "version_minor": 0
      },
      "text/plain": [
       "  0%|          | 0/24 [00:00<?, ?it/s]"
      ]
     },
     "metadata": {},
     "output_type": "display_data"
    },
    {
     "name": "stdout",
     "output_type": "stream",
     "text": [
      "Epoch 11/200.. Train loss: 0.162.. Train acc: 0.598.. val loss: 0.159.. val accuracy: 0.595\n",
      "Validation acc increased (0.594727 --> 0.595331).  Saving model ...\n"
     ]
    },
    {
     "data": {
      "application/vnd.jupyter.widget-view+json": {
       "model_id": "216793d9767a4f20bfeee22673b7af00",
       "version_major": 2,
       "version_minor": 0
      },
      "text/plain": [
       "  0%|          | 0/94 [00:00<?, ?it/s]"
      ]
     },
     "metadata": {},
     "output_type": "display_data"
    },
    {
     "data": {
      "application/vnd.jupyter.widget-view+json": {
       "model_id": "5478339ab9344bc6a3976c4e272ff192",
       "version_major": 2,
       "version_minor": 0
      },
      "text/plain": [
       "  0%|          | 0/24 [00:00<?, ?it/s]"
      ]
     },
     "metadata": {},
     "output_type": "display_data"
    },
    {
     "name": "stdout",
     "output_type": "stream",
     "text": [
      "Epoch 12/200.. Train loss: 0.157.. Train acc: 0.599.. val loss: 0.155.. val accuracy: 0.598\n",
      "Validation acc increased (0.595331 --> 0.598447).  Saving model ...\n"
     ]
    },
    {
     "data": {
      "application/vnd.jupyter.widget-view+json": {
       "model_id": "60b03ddc53c547708658bd677d33f9b3",
       "version_major": 2,
       "version_minor": 0
      },
      "text/plain": [
       "  0%|          | 0/94 [00:00<?, ?it/s]"
      ]
     },
     "metadata": {},
     "output_type": "display_data"
    },
    {
     "data": {
      "application/vnd.jupyter.widget-view+json": {
       "model_id": "13934769a2cf44aca5ea3c332cad6a92",
       "version_major": 2,
       "version_minor": 0
      },
      "text/plain": [
       "  0%|          | 0/24 [00:00<?, ?it/s]"
      ]
     },
     "metadata": {},
     "output_type": "display_data"
    },
    {
     "name": "stdout",
     "output_type": "stream",
     "text": [
      "Epoch 13/200.. Train loss: 0.153.. Train acc: 0.601.. val loss: 0.151.. val accuracy: 0.597\n"
     ]
    },
    {
     "data": {
      "application/vnd.jupyter.widget-view+json": {
       "model_id": "e9dea74a38fb4c3e8e4a90fad3a93e94",
       "version_major": 2,
       "version_minor": 0
      },
      "text/plain": [
       "  0%|          | 0/94 [00:00<?, ?it/s]"
      ]
     },
     "metadata": {},
     "output_type": "display_data"
    },
    {
     "data": {
      "application/vnd.jupyter.widget-view+json": {
       "model_id": "91c10423e20d4ace9659cfb8448f90a3",
       "version_major": 2,
       "version_minor": 0
      },
      "text/plain": [
       "  0%|          | 0/24 [00:00<?, ?it/s]"
      ]
     },
     "metadata": {},
     "output_type": "display_data"
    },
    {
     "name": "stdout",
     "output_type": "stream",
     "text": [
      "Epoch 14/200.. Train loss: 0.150.. Train acc: 0.601.. val loss: 0.148.. val accuracy: 0.600\n",
      "Validation acc increased (0.598447 --> 0.600214).  Saving model ...\n"
     ]
    },
    {
     "data": {
      "application/vnd.jupyter.widget-view+json": {
       "model_id": "927d8bfc1fa54610a713b21753369385",
       "version_major": 2,
       "version_minor": 0
      },
      "text/plain": [
       "  0%|          | 0/94 [00:00<?, ?it/s]"
      ]
     },
     "metadata": {},
     "output_type": "display_data"
    },
    {
     "data": {
      "application/vnd.jupyter.widget-view+json": {
       "model_id": "c66c9aa4c1094c198359ef7546c2a06c",
       "version_major": 2,
       "version_minor": 0
      },
      "text/plain": [
       "  0%|          | 0/24 [00:00<?, ?it/s]"
      ]
     },
     "metadata": {},
     "output_type": "display_data"
    },
    {
     "name": "stdout",
     "output_type": "stream",
     "text": [
      "Epoch 15/200.. Train loss: 0.146.. Train acc: 0.603.. val loss: 0.145.. val accuracy: 0.599\n"
     ]
    },
    {
     "data": {
      "application/vnd.jupyter.widget-view+json": {
       "model_id": "d5b8f160b5b44af08c91e4971ab0c22d",
       "version_major": 2,
       "version_minor": 0
      },
      "text/plain": [
       "  0%|          | 0/94 [00:00<?, ?it/s]"
      ]
     },
     "metadata": {},
     "output_type": "display_data"
    },
    {
     "data": {
      "application/vnd.jupyter.widget-view+json": {
       "model_id": "3c6eb7c4dcd34b6d86a61bee6ed78174",
       "version_major": 2,
       "version_minor": 0
      },
      "text/plain": [
       "  0%|          | 0/24 [00:00<?, ?it/s]"
      ]
     },
     "metadata": {},
     "output_type": "display_data"
    },
    {
     "name": "stdout",
     "output_type": "stream",
     "text": [
      "Epoch 16/200.. Train loss: 0.144.. Train acc: 0.601.. val loss: 0.142.. val accuracy: 0.598\n"
     ]
    },
    {
     "data": {
      "application/vnd.jupyter.widget-view+json": {
       "model_id": "6b2a2d5b10374c67b37ee2f57f628dd5",
       "version_major": 2,
       "version_minor": 0
      },
      "text/plain": [
       "  0%|          | 0/94 [00:00<?, ?it/s]"
      ]
     },
     "metadata": {},
     "output_type": "display_data"
    },
    {
     "data": {
      "application/vnd.jupyter.widget-view+json": {
       "model_id": "1b375cca82574af7b8f779fd2dda9fa8",
       "version_major": 2,
       "version_minor": 0
      },
      "text/plain": [
       "  0%|          | 0/24 [00:00<?, ?it/s]"
      ]
     },
     "metadata": {},
     "output_type": "display_data"
    },
    {
     "name": "stdout",
     "output_type": "stream",
     "text": [
      "Epoch 17/200.. Train loss: 0.141.. Train acc: 0.598.. val loss: 0.141.. val accuracy: 0.592\n"
     ]
    },
    {
     "data": {
      "application/vnd.jupyter.widget-view+json": {
       "model_id": "4d24cc234ccc400fa7c5b4d3f622ad2a",
       "version_major": 2,
       "version_minor": 0
      },
      "text/plain": [
       "  0%|          | 0/94 [00:00<?, ?it/s]"
      ]
     },
     "metadata": {},
     "output_type": "display_data"
    },
    {
     "data": {
      "application/vnd.jupyter.widget-view+json": {
       "model_id": "d4bbcb3f32854f879917fb7379488dfd",
       "version_major": 2,
       "version_minor": 0
      },
      "text/plain": [
       "  0%|          | 0/24 [00:00<?, ?it/s]"
      ]
     },
     "metadata": {},
     "output_type": "display_data"
    },
    {
     "name": "stdout",
     "output_type": "stream",
     "text": [
      "Epoch 18/200.. Train loss: 0.139.. Train acc: 0.597.. val loss: 0.138.. val accuracy: 0.594\n"
     ]
    },
    {
     "data": {
      "application/vnd.jupyter.widget-view+json": {
       "model_id": "fe4e2a03af6e40e19d2611e2626d9d97",
       "version_major": 2,
       "version_minor": 0
      },
      "text/plain": [
       "  0%|          | 0/94 [00:00<?, ?it/s]"
      ]
     },
     "metadata": {},
     "output_type": "display_data"
    },
    {
     "data": {
      "application/vnd.jupyter.widget-view+json": {
       "model_id": "8b7fab8472d04cb9bdb591edf876b4ad",
       "version_major": 2,
       "version_minor": 0
      },
      "text/plain": [
       "  0%|          | 0/24 [00:00<?, ?it/s]"
      ]
     },
     "metadata": {},
     "output_type": "display_data"
    },
    {
     "name": "stdout",
     "output_type": "stream",
     "text": [
      "Epoch 19/200.. Train loss: 0.137.. Train acc: 0.599.. val loss: 0.136.. val accuracy: 0.596\n"
     ]
    },
    {
     "data": {
      "application/vnd.jupyter.widget-view+json": {
       "model_id": "11697d45e71c4ab1a08ecd74e711f09c",
       "version_major": 2,
       "version_minor": 0
      },
      "text/plain": [
       "  0%|          | 0/94 [00:00<?, ?it/s]"
      ]
     },
     "metadata": {},
     "output_type": "display_data"
    },
    {
     "data": {
      "application/vnd.jupyter.widget-view+json": {
       "model_id": "1180d7b7f78f44d9983560bd349c9aa6",
       "version_major": 2,
       "version_minor": 0
      },
      "text/plain": [
       "  0%|          | 0/24 [00:00<?, ?it/s]"
      ]
     },
     "metadata": {},
     "output_type": "display_data"
    },
    {
     "name": "stdout",
     "output_type": "stream",
     "text": [
      "Epoch 20/200.. Train loss: 0.135.. Train acc: 0.598.. val loss: 0.134.. val accuracy: 0.593\n"
     ]
    },
    {
     "data": {
      "application/vnd.jupyter.widget-view+json": {
       "model_id": "59b78bb611ea428f9d19d472f04e33f2",
       "version_major": 2,
       "version_minor": 0
      },
      "text/plain": [
       "  0%|          | 0/94 [00:00<?, ?it/s]"
      ]
     },
     "metadata": {},
     "output_type": "display_data"
    },
    {
     "data": {
      "application/vnd.jupyter.widget-view+json": {
       "model_id": "063fc8313c7f4952bafeef67c2205c41",
       "version_major": 2,
       "version_minor": 0
      },
      "text/plain": [
       "  0%|          | 0/24 [00:00<?, ?it/s]"
      ]
     },
     "metadata": {},
     "output_type": "display_data"
    },
    {
     "name": "stdout",
     "output_type": "stream",
     "text": [
      "Epoch 21/200.. Train loss: 0.133.. Train acc: 0.596.. val loss: 0.132.. val accuracy: 0.594\n"
     ]
    },
    {
     "data": {
      "application/vnd.jupyter.widget-view+json": {
       "model_id": "6dae8622119d40a28dd2381c1e6ac9ad",
       "version_major": 2,
       "version_minor": 0
      },
      "text/plain": [
       "  0%|          | 0/94 [00:00<?, ?it/s]"
      ]
     },
     "metadata": {},
     "output_type": "display_data"
    },
    {
     "data": {
      "application/vnd.jupyter.widget-view+json": {
       "model_id": "be1976600f294b478eff6ad547f66162",
       "version_major": 2,
       "version_minor": 0
      },
      "text/plain": [
       "  0%|          | 0/24 [00:00<?, ?it/s]"
      ]
     },
     "metadata": {},
     "output_type": "display_data"
    },
    {
     "name": "stdout",
     "output_type": "stream",
     "text": [
      "Epoch 22/200.. Train loss: 0.131.. Train acc: 0.597.. val loss: 0.130.. val accuracy: 0.591\n"
     ]
    },
    {
     "data": {
      "application/vnd.jupyter.widget-view+json": {
       "model_id": "96e469570f2648debdef312649e20ef6",
       "version_major": 2,
       "version_minor": 0
      },
      "text/plain": [
       "  0%|          | 0/94 [00:00<?, ?it/s]"
      ]
     },
     "metadata": {},
     "output_type": "display_data"
    },
    {
     "data": {
      "application/vnd.jupyter.widget-view+json": {
       "model_id": "652f7ed58a234dea8329a3160b45391b",
       "version_major": 2,
       "version_minor": 0
      },
      "text/plain": [
       "  0%|          | 0/24 [00:00<?, ?it/s]"
      ]
     },
     "metadata": {},
     "output_type": "display_data"
    },
    {
     "name": "stdout",
     "output_type": "stream",
     "text": [
      "Epoch 23/200.. Train loss: 0.129.. Train acc: 0.594.. val loss: 0.128.. val accuracy: 0.588\n"
     ]
    },
    {
     "data": {
      "application/vnd.jupyter.widget-view+json": {
       "model_id": "602663f633ae42eebc14e1916c6ea224",
       "version_major": 2,
       "version_minor": 0
      },
      "text/plain": [
       "  0%|          | 0/94 [00:00<?, ?it/s]"
      ]
     },
     "metadata": {},
     "output_type": "display_data"
    },
    {
     "data": {
      "application/vnd.jupyter.widget-view+json": {
       "model_id": "156e3c5b8db44d20826ab671a3d5506a",
       "version_major": 2,
       "version_minor": 0
      },
      "text/plain": [
       "  0%|          | 0/24 [00:00<?, ?it/s]"
      ]
     },
     "metadata": {},
     "output_type": "display_data"
    },
    {
     "name": "stdout",
     "output_type": "stream",
     "text": [
      "Epoch 24/200.. Train loss: 0.126.. Train acc: 0.594.. val loss: 0.126.. val accuracy: 0.584\n",
      "Early Stopping\n"
     ]
    }
   ],
   "source": [
    "epochs = 200 # Iteration Number\n",
    "cnt = 0      # early stopping count\n",
    "\n",
    "model = DrLIM().to(device)\n",
    "# criterion = CL_Loss()\n",
    "optimizer = optim.SGD(model.parameters(), lr=0.001)\n",
    "\n",
    "# save train and val Loss\n",
    "train_loss = torch.zeros(epochs)\n",
    "val_loss = torch.zeros(epochs)\n",
    "\n",
    "# save train and val Acc\n",
    "train_acc = torch.zeros(epochs)\n",
    "val_acc = torch.zeros(epochs)\n",
    "\n",
    "# initial loss value is inf.\n",
    "valid_loss_min = np.Inf\n",
    "valid_acc_max = 0\n",
    "\n",
    "# train\n",
    "for epoch in range(epochs):\n",
    "    \n",
    "    model.train() # train mode \n",
    "    \n",
    "    for x1, x2, y in tqdm(trainloader):\n",
    "        y = torch.tensor(y, dtype = torch.float64).to(device)\n",
    "        x1, x2 = x1.to(device), x2.to(device)\n",
    "        optimizer.zero_grad() # optimizer initialization\n",
    "        \n",
    "        Gw_x1 = model(x1) # model output of x1\n",
    "        Gw_x2 = model(x2) # model output of x2\n",
    "        \n",
    "        # Calculate accuracy\n",
    "        loss = CL_Loss(Gw_x1, Gw_x2, y) \n",
    "        loss.backward()\n",
    "        optimizer.step() \n",
    "        train_loss[epoch] += loss.item()\n",
    "\n",
    "        ans = torch.tensor((Gw_x1[:, 0] < Gw_x1[:, 1]) != (Gw_x2[:, 0] < Gw_x2[:, 1]), dtype=torch.float64) # Similar to Contrastive Leaning Loss\n",
    "        equals = ans == y.reshape(ans.shape)   # calculate acc\n",
    "        train_acc[epoch] += torch.mean(equals.type(torch.FloatTensor)).item()  \n",
    "   \n",
    "    # AVG Loss\n",
    "    train_loss[epoch] /= len(trainloader)\n",
    "    train_acc[epoch] /= len(trainloader)\n",
    "\n",
    "    \n",
    "    # valid , \n",
    "    model.eval()  \n",
    "    with torch.no_grad():  \n",
    "        for x1, x2, y in tqdm(validloader):\n",
    "            y = torch.tensor(y, dtype = torch.float64).to(device)\n",
    "            x1, x2 = x1.to(device), x2.to(device)\n",
    "\n",
    "            Gw_x1 = model(x1)\n",
    "            Gw_x2 = model(x2)\n",
    "\n",
    "            loss = CL_Loss(Gw_x1, Gw_x2, y) \n",
    "            val_loss[epoch] += loss.item()\n",
    "\n",
    "            \n",
    "            ans = torch.tensor((Gw_x1[:, 0] < Gw_x1[:, 1]) != (Gw_x2[:, 0] < Gw_x2[:, 1]), dtype=torch.float64)\n",
    "            equals = ans == y.reshape(ans.shape)  \n",
    "            val_acc[epoch] += torch.mean(equals.type(torch.FloatTensor)).item() \n",
    "            \n",
    "    val_loss[epoch] /= len(validloader)\n",
    "    val_acc[epoch] /= len(validloader)\n",
    "\n",
    "    print(f\"Epoch {epoch+1}/{epochs}.. \"\n",
    "          f\"Train loss: {train_loss[epoch]:.3f}.. \"\n",
    "          f\"Train acc: {train_acc[epoch]:.3f}.. \"\n",
    "          f\"val loss: {val_loss[epoch]:.3f}.. \"\n",
    "          f\"val accuracy: {val_acc[epoch]:.3f}\")\n",
    "\n",
    "    if val_acc[epoch] >= valid_acc_max:\n",
    "        print('Validation acc increased ({:.6f} --> {:.6f}).  Saving model ...'.format(\n",
    "        valid_acc_max,\n",
    "        val_acc[epoch]))\n",
    "        torch.save(model.state_dict(), 'DrLIM.pt')\n",
    "\n",
    "        valid_acc_max = val_acc[epoch]\n",
    "        cnt = 0\n",
    "\n",
    "\n",
    "    if cnt >= 10:\n",
    "        print(\"Early Stopping\")\n",
    "        break\n",
    "            \n",
    "    cnt+=1 "
   ]
  },
  {
   "cell_type": "code",
   "execution_count": 11,
   "metadata": {},
   "outputs": [
    {
     "data": {
      "application/vnd.jupyter.widget-view+json": {
       "model_id": "2ed9997e7e6f4cfdb2b0e3b18daf0591",
       "version_major": 2,
       "version_minor": 0
      },
      "text/plain": [
       "  0%|          | 0/1800 [00:00<?, ?it/s]"
      ]
     },
     "metadata": {},
     "output_type": "display_data"
    },
    {
     "data": {
      "image/png": "[encoded data removed]",
      "text/plain": [
       "<Figure size 640x480 with 1 Axes>"
      ]
     },
     "metadata": {},
     "output_type": "display_data"
    }
   ],
   "source": [
    "# valid , \n",
    "model = DrLIM().to(device)\n",
    "model = nn.DataParallel(model).to(device)\n",
    "model.module.load_state_dict(torch.load(\"./DrLIM.pt\"))\n",
    "model.eval()  \n",
    "\n",
    "X, Y = None, []\n",
    "\n",
    "with torch.no_grad():  \n",
    "    for img, labels in tqdm(test):\n",
    "        labels = torch.tensor(labels, dtype = torch.float64).to(device)\n",
    "        img = img.to(device)\n",
    "        \n",
    "        output = model(img)\n",
    "\n",
    "        if X is None:\n",
    "            X = output\n",
    "            Y.append(labels.item())\n",
    "        else:\n",
    "            X = torch.cat([X, output], dim=0)\n",
    "            Y.append(labels.item())\n",
    "\n",
    "X = X.detach().cpu().numpy()\n",
    "y = np.array(Y)\n",
    "\n",
    "\n",
    "plt.figure()\n",
    "plt.axis('off')\n",
    "plt.tight_layout()\n",
    "plt.scatter(X[:, 0], X[:, 1], c=y)\n",
    "plt.savefig('result.png') "
   ]
  }
 ],
 "metadata": {
  "kernelspec": {
   "display_name": "INRIA",
   "language": "python",
   "name": "python3"
  },
  "language_info": {
   "codemirror_mode": {
    "name": "ipython",
    "version": 3
   },
   "file_extension": ".py",
   "mimetype": "text/x-python",
   "name": "python",
   "nbconvert_exporter": "python",
   "pygments_lexer": "ipython3",
   "version": "3.11.7"
  }
 },
 "nbformat": 4,
 "nbformat_minor": 2
}
