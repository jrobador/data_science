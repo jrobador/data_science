{
 "cells": [
  {
   "cell_type": "code",
   "execution_count": 1,
   "metadata": {
    "tags": []
   },
   "outputs": [
    {
     "name": "stderr",
     "output_type": "stream",
     "text": [
      "/home/mind/jrobador/.local/miniconda3/envs/pavi/lib/python3.12/site-packages/tqdm/auto.py:21: TqdmWarning: IProgress not found. Please update jupyter and ipywidgets. See https://ipywidgets.readthedocs.io/en/stable/user_install.html\n",
      "  from .autonotebook import tqdm as notebook_tqdm\n",
      "pixdim[1,2,3] should be non-zero; setting 0 dims to 1\n"
     ]
    }
   ],
   "source": [
    "import sys\n",
    "import json\n",
    "import pickle\n",
    "from tqdm import tqdm\n",
    "from pathlib import Path\n",
    "import random\n",
    "\n",
    "import torch\n",
    "import numpy as np\n",
    "import pandas as pd\n",
    "\n",
    "from scipy.special import softmax\n",
    "\n",
    "import pyro.distributions as dist\n",
    "\n",
    "sys.path.append(\"/home/mind/jrobador/pavi_pytorch/\")\n",
    "from utils.dataset import HCPDataLoader, HCPDataset\n",
    "from utils.config import PATH_TEMPLATE_FULL, SUBJECTS_LIST\n",
    "from utils.downstream import ScoresPredictionTask\n",
    "\n",
    "# DEVICE = torch.device(\"cuda:0\" if torch.cuda.is_available() else \"cpu\")\n",
    "DEVICE = torch.device('cpu')\n",
    "PATH_CAMCAN_DATA = Path(\"/home/mind/alebris/projects/pavi_project/experiments_parcellation/5_camcan_bis/subjects_difumo_128.pkl\")"
   ]
  },
  {
   "cell_type": "markdown",
   "metadata": {},
   "source": [
    "# Generate the jobs"
   ]
  },
  {
   "cell_type": "code",
   "execution_count": 2,
   "metadata": {},
   "outputs": [],
   "source": [
    "with open(PATH_CAMCAN_DATA, 'rb') as f:\n",
    "    xr_data = pickle.load(f)"
   ]
  },
  {
   "cell_type": "code",
   "execution_count": 3,
   "metadata": {},
   "outputs": [],
   "source": [
    "list_subjects = xr_data.Subject.values"
   ]
  },
  {
   "cell_type": "code",
   "execution_count": 4,
   "metadata": {},
   "outputs": [],
   "source": [
    "sub_list = []\n",
    "seed = []\n",
    "for k in [48, 96, 144, 192, 240]:\n",
    "    for i in range(10):\n",
    "        sub_list.append(random.sample(list(list_subjects), k=k))\n",
    "        seed.append(42)"
   ]
  },
  {
   "cell_type": "code",
   "execution_count": 17,
   "metadata": {},
   "outputs": [],
   "source": [
    "# json_file = json.dumps({'sub_list': sub_list, 'seed': seed})\n",
    "\n",
    "# with open('jobs.json', 'w') as f:\n",
    "#     f.write(json_file)"
   ]
  },
  {
   "cell_type": "markdown",
   "metadata": {},
   "source": [
    "# Test CamCAN scores"
   ]
  },
  {
   "cell_type": "code",
   "execution_count": 5,
   "metadata": {},
   "outputs": [],
   "source": [
    "with open(PATH_CAMCAN_DATA, 'rb') as f:\n",
    "    xr_data = pickle.load(f)"
   ]
  },
  {
   "cell_type": "code",
   "execution_count": 6,
   "metadata": {},
   "outputs": [],
   "source": [
    "df_scores = pd.read_csv('neuropsych_scores.csv', index_col=0)\n",
    "df_scores.reset_index(names='Subject').to_csv('scores_camcan.csv')\n",
    "mask_scores = df_scores.loc[xr_data.Subject].isna().sum(0) < 30\n",
    "df_scores_post = df_scores.loc[xr_data.Subject][df_scores.columns[mask_scores]]\n",
    "df_scores_post.reset_index(names='Subject').to_csv('scores_camcan_2.csv')"
   ]
  },
  {
   "cell_type": "code",
   "execution_count": 7,
   "metadata": {},
   "outputs": [],
   "source": [
    "categories = [\n",
    "    'BentonFaces_total',\n",
    "    'Cattell_total',\n",
    "    'EkmanEmHex_pca1',\n",
    "    'FamousFaces_details',\n",
    "    'Hotel_time',\n",
    "    'PicturePriming_baseline_acc',\n",
    "    'Proverbs',\n",
    "    'Synsem_prop_error',\n",
    "    'Synsem_RT',\n",
    "    'VSTMcolour_K_mean',\n",
    "    'VSTMcolour_K_precision',\n",
    "    'VSTMcolour_K_doubt',\n",
    "    'VSTMcolour_MSE'\n",
    "]"
   ]
  },
  {
   "cell_type": "code",
   "execution_count": 8,
   "metadata": {},
   "outputs": [],
   "source": [
    "fancy_categories = [\n",
    "    'Benton faces',\n",
    "    'Fluid Intelligence',\n",
    "    'Emotion expression recognition',\n",
    "    'Famous faces',\n",
    "    'Hotel task',\n",
    "    'Picture priming',\n",
    "    'Proverb comprehension',\n",
    "    'Sentence comprehension (unacceptable error)',\n",
    "    'Sentence comprehension (reaction time)',\n",
    "    'Visual short term memory (mean)',\n",
    "    'Visual short term memory (precision)',\n",
    "    'Visual short term memory (doubt)',\n",
    "    'Visual short term memory (MSE)',\n",
    "]"
   ]
  },
  {
   "cell_type": "code",
   "execution_count": 9,
   "metadata": {},
   "outputs": [],
   "source": [
    "with open('jobs.json', 'rb') as f:\n",
    "    jobs = json.load(f)"
   ]
  },
  {
   "cell_type": "code",
   "execution_count": 10,
   "metadata": {},
   "outputs": [],
   "source": [
    "subjects_list = jobs['sub_list'][1]"
   ]
  },
  {
   "cell_type": "code",
   "execution_count": 11,
   "metadata": {},
   "outputs": [],
   "source": [
    "sp_task = ScoresPredictionTask(\n",
    "    path_run='.',\n",
    "    path_scores='scores_camcan.csv',\n",
    "    categories=categories,\n",
    "    fancy_categories_names=fancy_categories,\n",
    "    subjects=subjects_list\n",
    ")"
   ]
  },
  {
   "cell_type": "markdown",
   "metadata": {
    "tags": []
   },
   "source": [
    "# Explore samples"
   ]
  },
  {
   "cell_type": "code",
   "execution_count": 13,
   "metadata": {
    "tags": []
   },
   "outputs": [],
   "source": [
    "# Load sample\n",
    "# sample_dir = Path('./runs/inference_S553_XR/checkpoints/12_mean_sample_post.pt')\n",
    "# sample = torch.load(sample_dir, map_location='cpu')\n",
    "\n",
    "state_dir = Path('/home/mind/alebris/projects/pavi_project/experiments_parcellation/3_camcan/runs_warmbayes/transfer_learning_40_S240/checkpoints/12_state.pt')\n",
    "state = torch.load(state_dir, map_location='cpu')"
   ]
  },
  {
   "cell_type": "code",
   "execution_count": 21,
   "metadata": {},
   "outputs": [
    {
     "data": {
      "text/plain": [
       "odict_keys(['encodings.plate_S_unconstrained', 'encodings.plate_S_plate_T_unconstrained', 'encodings.plate_N_unconstrained', 'encodings.plate_N_plate_S_unconstrained', 'mu_g.0_transform.loc_unconstrained', 'mu_g.0_transform.diag_scale_unconstrained', 'epsilon.0_transform.loc_unconstrained', 'epsilon.0_transform.diag_scale_unconstrained', 'sigma.0_transform.loc_unconstrained', 'sigma.0_transform.diag_scale_unconstrained', 'kappa.0_transform.loc_unconstrained', 'kappa.0_transform.diag_scale_unconstrained', 'gamma.0_transform.loc_unconstrained', 'gamma.0_transform.diag_scale_unconstrained', 'mu_s.0_transform.loc_nn.layers.0.weight', 'mu_s.0_transform.loc_nn.layers.0.bias', 'mu_s.0_transform.loc_nn.layers.1.weight', 'mu_s.0_transform.loc_nn.layers.1.bias', 'mu_s.0_transform.loc_nn.layers.2.weight', 'mu_s.0_transform.loc_nn.layers.2.bias', 'mu_s.0_transform.scale_nn.layers.0.weight', 'mu_s.0_transform.scale_nn.layers.0.bias', 'mu_s.0_transform.scale_nn.layers.1.weight', 'mu_s.0_transform.scale_nn.layers.1.bias', 'mu_s.0_transform.scale_nn.layers.2.weight', 'mu_s.0_transform.scale_nn.layers.2.bias', 'mu_st.0_transform.loc_nn.layers.0.weight', 'mu_st.0_transform.loc_nn.layers.0.bias', 'mu_st.0_transform.loc_nn.layers.1.weight', 'mu_st.0_transform.loc_nn.layers.1.bias', 'mu_st.0_transform.loc_nn.layers.2.weight', 'mu_st.0_transform.loc_nn.layers.2.bias', 'mu_st.0_transform.scale_nn.layers.0.weight', 'mu_st.0_transform.scale_nn.layers.0.bias', 'mu_st.0_transform.scale_nn.layers.1.weight', 'mu_st.0_transform.scale_nn.layers.1.bias', 'mu_st.0_transform.scale_nn.layers.2.weight', 'mu_st.0_transform.scale_nn.layers.2.bias', 'theta_s.0_transform.loc_nn.layers.0.weight', 'theta_s.0_transform.loc_nn.layers.0.bias', 'theta_s.0_transform.loc_nn.layers.1.weight', 'theta_s.0_transform.loc_nn.layers.1.bias', 'theta_s.0_transform.loc_nn.layers.2.weight', 'theta_s.0_transform.loc_nn.layers.2.bias', 'theta_s.0_transform.scale_nn.layers.0.weight', 'theta_s.0_transform.scale_nn.layers.0.bias', 'theta_s.0_transform.scale_nn.layers.1.weight', 'theta_s.0_transform.scale_nn.layers.1.bias', 'theta_s.0_transform.scale_nn.layers.2.weight', 'theta_s.0_transform.scale_nn.layers.2.bias', 'theta.0_transform.loc_nn.layers.0.weight', 'theta.0_transform.loc_nn.layers.0.bias', 'theta.0_transform.loc_nn.layers.1.weight', 'theta.0_transform.loc_nn.layers.1.bias', 'theta.0_transform.loc_nn.layers.2.weight', 'theta.0_transform.loc_nn.layers.2.bias', 'theta.0_transform.scale_nn.layers.0.weight', 'theta.0_transform.scale_nn.layers.0.bias', 'theta.0_transform.scale_nn.layers.1.weight', 'theta.0_transform.scale_nn.layers.1.bias', 'theta.0_transform.scale_nn.layers.2.weight', 'theta.0_transform.scale_nn.layers.2.bias'])"
      ]
     },
     "execution_count": 21,
     "metadata": {},
     "output_type": "execute_result"
    }
   ],
   "source": [
    "\n",
    "state['guide'].keys()\n",
    "\n"
   ]
  },
  {
   "cell_type": "code",
   "execution_count": 27,
   "metadata": {},
   "outputs": [
    {
     "data": {
      "text/plain": [
       "torch.Size([240, 1, 1, 48])"
      ]
     },
     "execution_count": 27,
     "metadata": {},
     "output_type": "execute_result"
    }
   ],
   "source": [
    "state['guide']['encodings.plate_S_unconstrained'].shape"
   ]
  },
  {
   "cell_type": "code",
   "execution_count": 8,
   "metadata": {},
   "outputs": [
    {
     "data": {
      "text/plain": [
       "tensor([0.8120, 0.6657, 1.0926, 0.6823, 0.9543, 0.8400, 0.8471, 0.9880, 0.4861,\n",
       "        0.5439, 0.3230, 0.7901, 0.7560, 0.4748, 0.7868, 0.5587, 0.9390])"
      ]
     },
     "execution_count": 8,
     "metadata": {},
     "output_type": "execute_result"
    }
   ],
   "source": [
    "sample['theta_s'].reshape(-1, 17).std(0)"
   ]
  },
  {
   "cell_type": "code",
   "execution_count": 7,
   "metadata": {},
   "outputs": [
    {
     "data": {
      "text/plain": [
       "tensor([0.7834, 0.6366, 1.2154, 0.6973, 0.8151, 0.8589, 0.7455, 0.8462, 0.7045,\n",
       "        0.6437, 0.3889, 0.7083, 0.7966, 0.5579, 0.9013, 0.5664, 0.9867])"
      ]
     },
     "execution_count": 7,
     "metadata": {},
     "output_type": "execute_result"
    }
   ],
   "source": [
    "sample['gamma']"
   ]
  },
  {
   "cell_type": "code",
   "execution_count": 8,
   "metadata": {},
   "outputs": [
    {
     "data": {
      "text/plain": [
       "tensor([0.0951, 0.1149, 0.1129, 0.0817, 0.0820, 0.5335, 0.2136, 0.6033, 0.2695,\n",
       "        0.1283, 0.1551, 0.1397, 0.0930, 0.1366, 0.1073, 0.8567, 0.5010])"
      ]
     },
     "execution_count": 8,
     "metadata": {},
     "output_type": "execute_result"
    }
   ],
   "source": [
    "sample['gamma']"
   ]
  },
  {
   "cell_type": "code",
   "execution_count": null,
   "metadata": {},
   "outputs": [
    {
     "data": {
      "text/plain": [
       "tensor([[0.0511, 0.0487, 0.0212,  ..., 0.0310, 0.0190, 0.1083],\n",
       "        [0.0070, 0.0103, 0.0222,  ..., 0.0350, 0.0304, 0.0134],\n",
       "        [0.0140, 0.1535, 0.0285,  ..., 0.0246, 0.0271, 0.0409],\n",
       "        ...,\n",
       "        [0.0100, 0.0311, 0.0281,  ..., 0.0065, 0.0219, 0.0276],\n",
       "        [0.1466, 0.0505, 0.0080,  ..., 0.0189, 0.0150, 0.0372],\n",
       "        [0.0364, 0.0548, 0.0467,  ..., 0.0121, 0.0141, 0.0641]])"
      ]
     },
     "execution_count": 24,
     "metadata": {},
     "output_type": "execute_result"
    }
   ],
   "source": [
    "sample['mu_s'].mean(0)"
   ]
  },
  {
   "cell_type": "code",
   "execution_count": null,
   "metadata": {
    "tags": []
   },
   "outputs": [
    {
     "data": {
      "text/plain": [
       "tensor([[ 0.0529,  0.0504,  0.0177,  ...,  0.0385,  0.0114,  0.1080],\n",
       "        [ 0.0097,  0.0137,  0.0428,  ...,  0.0481,  0.0254,  0.0115],\n",
       "        [ 0.0048,  0.1623,  0.0269,  ...,  0.0265,  0.0331,  0.0256],\n",
       "        ...,\n",
       "        [ 0.0172,  0.0444,  0.0425,  ..., -0.0018,  0.0281,  0.0291],\n",
       "        [ 0.1518,  0.0439, -0.0002,  ...,  0.0285,  0.0238,  0.0489],\n",
       "        [ 0.0305,  0.0601,  0.0298,  ...,  0.0261,  0.0136,  0.0838]])"
      ]
     },
     "execution_count": 25,
     "metadata": {},
     "output_type": "execute_result"
    }
   ],
   "source": [
    "sample['mu_g']"
   ]
  },
  {
   "cell_type": "code",
   "execution_count": null,
   "metadata": {},
   "outputs": [
    {
     "data": {
      "text/plain": [
       "tensor([[0.0691, 0.0688, 0.0692,  ..., 0.0660, 0.0591, 0.0732],\n",
       "        [0.0621, 0.0644, 0.0607,  ..., 0.0694, 0.0593, 0.0716],\n",
       "        [0.0742, 0.0643, 0.0511,  ..., 0.0724, 0.0695, 0.0633],\n",
       "        ...,\n",
       "        [0.0730, 0.0663, 0.0643,  ..., 0.0714, 0.0665, 0.0633],\n",
       "        [0.0585, 0.0634, 0.0712,  ..., 0.0618, 0.0660, 0.0648],\n",
       "        [0.0636, 0.0645, 0.0678,  ..., 0.0676, 0.0641, 0.0588]])"
      ]
     },
     "execution_count": 16,
     "metadata": {},
     "output_type": "execute_result"
    }
   ],
   "source": [
    "sample['epsilon']"
   ]
  },
  {
   "cell_type": "code",
   "execution_count": null,
   "metadata": {},
   "outputs": [
    {
     "data": {
      "text/plain": [
       "tensor([[[ 0.0958,  0.0164,  0.0259,  ...,  0.0974,  0.0270,  0.0640],\n",
       "         [ 0.0137,  0.1379,  0.0111,  ...,  0.0574,  0.0296,  0.0530],\n",
       "         [ 0.1337,  0.0305,  0.0047,  ...,  0.0383,  0.0220,  0.0363],\n",
       "         ...,\n",
       "         [ 0.0420,  0.0789,  0.0277,  ...,  0.1082,  0.0333,  0.0718],\n",
       "         [ 0.0073,  0.0085,  0.0339,  ...,  0.0196,  0.0092,  0.0158],\n",
       "         [-0.0005,  0.0211,  0.1305,  ...,  0.0104,  0.0166,  0.0232]],\n",
       "\n",
       "        [[ 0.0960,  0.0161,  0.0260,  ...,  0.0974,  0.0262,  0.0641],\n",
       "         [ 0.0135,  0.1367,  0.0110,  ...,  0.0577,  0.0296,  0.0533],\n",
       "         [ 0.1355,  0.0306,  0.0041,  ...,  0.0379,  0.0228,  0.0361],\n",
       "         ...,\n",
       "         [ 0.0425,  0.0774,  0.0292,  ...,  0.1094,  0.0323,  0.0708],\n",
       "         [ 0.0071,  0.0091,  0.0345,  ...,  0.0195,  0.0087,  0.0154],\n",
       "         [-0.0003,  0.0209,  0.1307,  ...,  0.0105,  0.0171,  0.0230]]])"
      ]
     },
     "execution_count": 19,
     "metadata": {},
     "output_type": "execute_result"
    }
   ],
   "source": [
    "sample['mu_st'][0]"
   ]
  },
  {
   "cell_type": "code",
   "execution_count": null,
   "metadata": {},
   "outputs": [
    {
     "data": {
      "text/plain": [
       "tensor([[0.0948, 0.0161, 0.0274,  ..., 0.0999, 0.0255, 0.0602],\n",
       "        [0.0161, 0.1380, 0.0159,  ..., 0.0571, 0.0255, 0.0498],\n",
       "        [0.1214, 0.0316, 0.0034,  ..., 0.0257, 0.0265, 0.0357],\n",
       "        ...,\n",
       "        [0.0464, 0.0812, 0.0307,  ..., 0.1158, 0.0336, 0.0757],\n",
       "        [0.0051, 0.0082, 0.0296,  ..., 0.0271, 0.0111, 0.0227],\n",
       "        [0.0042, 0.0157, 0.1230,  ..., 0.0093, 0.0207, 0.0233]])"
      ]
     },
     "execution_count": 24,
     "metadata": {},
     "output_type": "execute_result"
    }
   ],
   "source": [
    "sample['mu_s'][0]"
   ]
  },
  {
   "cell_type": "code",
   "execution_count": null,
   "metadata": {},
   "outputs": [
    {
     "data": {
      "text/plain": [
       "tensor([[ 0.0959,  0.0162,  0.0260,  ...,  0.0974,  0.0266,  0.0641],\n",
       "        [ 0.0136,  0.1373,  0.0110,  ...,  0.0576,  0.0296,  0.0532],\n",
       "        [ 0.1346,  0.0306,  0.0044,  ...,  0.0381,  0.0224,  0.0362],\n",
       "        ...,\n",
       "        [ 0.0423,  0.0781,  0.0285,  ...,  0.1088,  0.0328,  0.0713],\n",
       "        [ 0.0072,  0.0088,  0.0342,  ...,  0.0196,  0.0090,  0.0156],\n",
       "        [-0.0004,  0.0210,  0.1306,  ...,  0.0105,  0.0168,  0.0231]])"
      ]
     },
     "execution_count": 25,
     "metadata": {},
     "output_type": "execute_result"
    }
   ],
   "source": [
    "sample['mu_st'][0].mean(0)"
   ]
  },
  {
   "cell_type": "code",
   "execution_count": null,
   "metadata": {},
   "outputs": [
    {
     "data": {
      "text/plain": [
       "tensor([[0.0948, 0.0161, 0.0274,  ..., 0.0999, 0.0255, 0.0602],\n",
       "        [0.0161, 0.1380, 0.0159,  ..., 0.0571, 0.0255, 0.0498],\n",
       "        [0.1214, 0.0316, 0.0034,  ..., 0.0257, 0.0265, 0.0357],\n",
       "        ...,\n",
       "        [0.0464, 0.0812, 0.0307,  ..., 0.1158, 0.0336, 0.0757],\n",
       "        [0.0051, 0.0082, 0.0296,  ..., 0.0271, 0.0111, 0.0227],\n",
       "        [0.0042, 0.0157, 0.1230,  ..., 0.0093, 0.0207, 0.0233]])"
      ]
     },
     "execution_count": 6,
     "metadata": {},
     "output_type": "execute_result"
    }
   ],
   "source": [
    "sample['mu_s'][0]"
   ]
  },
  {
   "cell_type": "code",
   "execution_count": null,
   "metadata": {},
   "outputs": [
    {
     "data": {
      "text/plain": [
       "torch.return_types.max(\n",
       "values=tensor([0.0328, 0.0466, 0.0345, 0.0468, 0.0426, 0.0462, 0.1985, 0.0173, 0.0350,\n",
       "        0.0351, 0.2047, 0.0373, 0.0356, 0.0505, 0.0387, 0.0365, 0.0458]),\n",
       "indices=tensor([ 32,  75,  58,  38,  28,  82,  79, 125,  36,  77,  91,  13,  41, 124,\n",
       "         36,  35,  16]))"
      ]
     },
     "execution_count": 47,
     "metadata": {},
     "output_type": "execute_result"
    }
   ],
   "source": [
    "sample['sigma'].max(-1)"
   ]
  },
  {
   "cell_type": "code",
   "execution_count": null,
   "metadata": {},
   "outputs": [
    {
     "data": {
      "text/plain": [
       "tensor(0.0057)"
      ]
     },
     "execution_count": 45,
     "metadata": {},
     "output_type": "execute_result"
    }
   ],
   "source": [
    "sample['epsilon'][3].max()"
   ]
  },
  {
   "cell_type": "code",
   "execution_count": null,
   "metadata": {},
   "outputs": [
    {
     "data": {
      "text/plain": [
       "tensor([113.5662,  95.5378,  86.1161,  78.7148,  94.1634, 128.7284,   5.2598,\n",
       "        195.7948, 100.0517,  76.5019,   5.2493,  97.0262, 101.0987,  78.3395,\n",
       "        114.4301, 129.3518, 100.2153])"
      ]
     },
     "execution_count": 37,
     "metadata": {},
     "output_type": "execute_result"
    }
   ],
   "source": [
    "(sample['sigma'] ** -1).mean(-1)"
   ]
  },
  {
   "cell_type": "code",
   "execution_count": null,
   "metadata": {},
   "outputs": [
    {
     "data": {
      "text/plain": [
       "tensor([-8.7900, -8.8558, -9.2683,  ..., -9.3947, -9.5232, -8.9816])"
      ]
     },
     "execution_count": 32,
     "metadata": {},
     "output_type": "execute_result"
    }
   ],
   "source": [
    "state['guide']['mu_g.0_transform.diag_scale_unconstrained']"
   ]
  },
  {
   "cell_type": "code",
   "execution_count": null,
   "metadata": {
    "tags": []
   },
   "outputs": [
    {
     "name": "stdout",
     "output_type": "stream",
     "text": [
      "encodings.plate_S_unconstrained\n",
      "encodings.plate_S_plate_T_unconstrained\n",
      "encodings.plate_N_unconstrained\n",
      "encodings.theta_s_plate_N_unconstrained\n",
      "encodings.theta_s_plate_S_unconstrained\n",
      "mu_g.0_transform.loc_unconstrained\n",
      "mu_g.0_transform.diag_scale_unconstrained\n",
      "epsilon.0_transform.loc_unconstrained\n",
      "epsilon.0_transform.diag_scale_unconstrained\n",
      "sigma.0_transform.loc_unconstrained\n",
      "sigma.0_transform.diag_scale_unconstrained\n",
      "kappa.0_transform.loc_unconstrained\n",
      "kappa.0_transform.diag_scale_unconstrained\n",
      "gamma.0_transform.loc_unconstrained\n",
      "gamma.0_transform.diag_scale_unconstrained\n",
      "mu_s.0_transform.loc_nn.layers.0.weight\n",
      "mu_s.0_transform.loc_nn.layers.0.bias\n",
      "mu_s.0_transform.loc_nn.layers.1.weight\n",
      "mu_s.0_transform.loc_nn.layers.1.bias\n",
      "mu_s.0_transform.loc_nn.layers.2.weight\n",
      "mu_s.0_transform.loc_nn.layers.2.bias\n",
      "mu_s.0_transform.scale_nn.layers.0.weight\n",
      "mu_s.0_transform.scale_nn.layers.0.bias\n",
      "mu_s.0_transform.scale_nn.layers.1.weight\n",
      "mu_s.0_transform.scale_nn.layers.1.bias\n",
      "mu_s.0_transform.scale_nn.layers.2.weight\n",
      "mu_s.0_transform.scale_nn.layers.2.bias\n",
      "mu_st.0_transform.loc_nn.layers.0.weight\n",
      "mu_st.0_transform.loc_nn.layers.0.bias\n",
      "mu_st.0_transform.loc_nn.layers.1.weight\n",
      "mu_st.0_transform.loc_nn.layers.1.bias\n",
      "mu_st.0_transform.loc_nn.layers.2.weight\n",
      "mu_st.0_transform.loc_nn.layers.2.bias\n",
      "mu_st.0_transform.scale_nn.layers.0.weight\n",
      "mu_st.0_transform.scale_nn.layers.0.bias\n",
      "mu_st.0_transform.scale_nn.layers.1.weight\n",
      "mu_st.0_transform.scale_nn.layers.1.bias\n",
      "mu_st.0_transform.scale_nn.layers.2.weight\n",
      "mu_st.0_transform.scale_nn.layers.2.bias\n",
      "theta_s.0_transform.loc_nn.layers.0.weight\n",
      "theta_s.0_transform.loc_nn.layers.0.bias\n",
      "theta_s.0_transform.loc_nn.layers.1.weight\n",
      "theta_s.0_transform.loc_nn.layers.1.bias\n",
      "theta_s.0_transform.loc_nn.layers.2.weight\n",
      "theta_s.0_transform.loc_nn.layers.2.bias\n",
      "theta_s.0_transform.loc_nn.layers.3.weight\n",
      "theta_s.0_transform.loc_nn.layers.3.bias\n",
      "theta_s.0_transform.scale_nn.layers.0.weight\n",
      "theta_s.0_transform.scale_nn.layers.0.bias\n",
      "theta_s.0_transform.scale_nn.layers.1.weight\n",
      "theta_s.0_transform.scale_nn.layers.1.bias\n",
      "theta_s.0_transform.scale_nn.layers.2.weight\n",
      "theta_s.0_transform.scale_nn.layers.2.bias\n",
      "theta_s.0_transform.scale_nn.layers.3.weight\n",
      "theta_s.0_transform.scale_nn.layers.3.bias\n",
      "theta.0_transform.loc_nn.layers.0.weight\n",
      "theta.0_transform.loc_nn.layers.0.bias\n",
      "theta.0_transform.loc_nn.layers.1.weight\n",
      "theta.0_transform.loc_nn.layers.1.bias\n",
      "theta.0_transform.loc_nn.layers.2.weight\n",
      "theta.0_transform.loc_nn.layers.2.bias\n",
      "theta.0_transform.loc_nn.layers.3.weight\n",
      "theta.0_transform.loc_nn.layers.3.bias\n",
      "theta.0_transform.scale_nn.layers.0.weight\n",
      "theta.0_transform.scale_nn.layers.0.bias\n",
      "theta.0_transform.scale_nn.layers.1.weight\n",
      "theta.0_transform.scale_nn.layers.1.bias\n",
      "theta.0_transform.scale_nn.layers.2.weight\n",
      "theta.0_transform.scale_nn.layers.2.bias\n",
      "theta.0_transform.scale_nn.layers.3.weight\n",
      "theta.0_transform.scale_nn.layers.3.bias\n"
     ]
    }
   ],
   "source": [
    "for p in state['guide'].keys():\n",
    "    print(p)"
   ]
  },
  {
   "cell_type": "code",
   "execution_count": null,
   "metadata": {
    "tags": []
   },
   "outputs": [
    {
     "data": {
      "text/plain": [
       "tensor([[0.0177, 0.0180, 0.0090,  ..., 0.0088, 0.0053, 0.0172],\n",
       "        [0.0093, 0.0151, 0.0248,  ..., 0.0052, 0.0094, 0.0195],\n",
       "        [0.0084, 0.0191, 0.0158,  ..., 0.0144, 0.0076, 0.0144],\n",
       "        ...,\n",
       "        [0.0165, 0.0237, 0.0341,  ..., 0.0054, 0.0088, 0.0266],\n",
       "        [0.0186, 0.0290, 0.0032,  ..., 0.0197, 0.0066, 0.0243],\n",
       "        [0.0044, 0.0116, 0.0079,  ..., 0.0093, 0.0061, 0.0205]])"
      ]
     },
     "execution_count": 27,
     "metadata": {},
     "output_type": "execute_result"
    }
   ],
   "source": [
    "sample['sigma']"
   ]
  },
  {
   "cell_type": "code",
   "execution_count": null,
   "metadata": {},
   "outputs": [
    {
     "data": {
      "text/plain": [
       "tensor([[0.2065, 0.2405, 0.2559,  ..., 0.2129, 0.2388, 0.2252],\n",
       "        [0.2179, 0.2470, 0.2105,  ..., 0.2374, 0.3044, 0.2612],\n",
       "        [0.2784, 0.2501, 0.2833,  ..., 0.2097, 0.5319, 0.2729],\n",
       "        ...,\n",
       "        [0.2056, 0.2458, 0.2441,  ..., 0.2360, 0.2499, 0.2605],\n",
       "        [0.2265, 0.2608, 0.2464,  ..., 0.2109, 0.2517, 0.2136],\n",
       "        [0.2207, 0.2446, 0.2293,  ..., 0.2284, 0.2357, 0.2346]])"
      ]
     },
     "execution_count": 60,
     "metadata": {},
     "output_type": "execute_result"
    }
   ],
   "source": [
    "((sample['theta_s'] - sample['theta'][None, ...]) ** 2).mean(0) ** 0.5"
   ]
  },
  {
   "cell_type": "code",
   "execution_count": null,
   "metadata": {},
   "outputs": [],
   "source": [
    "sigma_q = sample['gamma']\n",
    "sigma_p = sample['theta_s'].std(0).mean(0)"
   ]
  },
  {
   "cell_type": "code",
   "execution_count": null,
   "metadata": {},
   "outputs": [
    {
     "data": {
      "text/plain": [
       "tensor([0.4589, 0.4714, 0.4738, 0.4699, 0.4769, 0.4697, 0.4713, 0.4661, 0.4726,\n",
       "        0.4691, 0.4759, 0.4715, 0.4667, 0.4739, 0.4707, 0.4617, 0.4701])"
      ]
     },
     "execution_count": 64,
     "metadata": {},
     "output_type": "execute_result"
    }
   ],
   "source": [
    "sigma_p / sigma_q + np.log(sigma_q / sigma_p) - 1 "
   ]
  },
  {
   "cell_type": "code",
   "execution_count": null,
   "metadata": {},
   "outputs": [
    {
     "data": {
      "text/plain": [
       "tensor(0.1010)"
      ]
     },
     "execution_count": 72,
     "metadata": {},
     "output_type": "execute_result"
    }
   ],
   "source": [
    "(((sample['theta_s'] - sample['theta'][None, ...]) ** 2) / sigma_q).mean()"
   ]
  },
  {
   "cell_type": "code",
   "execution_count": null,
   "metadata": {
    "tags": []
   },
   "outputs": [
    {
     "data": {
      "text/plain": [
       "tensor([1.1527, 1.0651, 0.5804, 1.1971, 0.7507, 1.0972, 1.2106, 0.9524, 0.7477,\n",
       "        1.0306, 0.9675, 0.8575, 0.7148, 0.9464, 0.9189, 1.4435, 0.9912])"
      ]
     },
     "execution_count": 24,
     "metadata": {},
     "output_type": "execute_result"
    }
   ],
   "source": [
    "sample['theta_s'].reshape(-1, 17).std(0)"
   ]
  },
  {
   "cell_type": "code",
   "execution_count": null,
   "metadata": {
    "tags": []
   },
   "outputs": [
    {
     "data": {
      "text/plain": [
       "tensor([-0.6915,  1.1421,  1.9844,  0.0735,  0.9909, -0.4243, -0.9687,  0.0348,\n",
       "         1.4003, -0.9058,  0.7777, -0.0864,  0.5931,  1.9426, -0.1369, -2.0746,\n",
       "         2.0473])"
      ]
     },
     "execution_count": 16,
     "metadata": {},
     "output_type": "execute_result"
    }
   ],
   "source": [
    "sample['theta_s'][0, 100]"
   ]
  },
  {
   "cell_type": "code",
   "execution_count": null,
   "metadata": {},
   "outputs": [
    {
     "data": {
      "text/plain": [
       "tensor([-0.7479,  1.5876,  1.9601,  0.2930,  0.9521, -0.0560, -1.2373,  0.0815,\n",
       "         1.7146, -1.1850,  0.9790, -0.3710,  0.6170,  1.8795, -0.5727, -2.0635,\n",
       "         2.2181])"
      ]
     },
     "execution_count": 18,
     "metadata": {},
     "output_type": "execute_result"
    }
   ],
   "source": [
    "sample['theta_s'][10, 100]"
   ]
  },
  {
   "cell_type": "code",
   "execution_count": null,
   "metadata": {
    "tags": []
   },
   "outputs": [],
   "source": [
    "prior = dist.Normal(sample['theta'], sample['gamma']).to_event(1)\n",
    "prior_logprob = prior.log_prob(sample['theta_s'])"
   ]
  },
  {
   "cell_type": "code",
   "execution_count": null,
   "metadata": {},
   "outputs": [],
   "source": [
    "posterior = dist.Normal(sample['theta_s'].mean(0), sample['theta_s'].std(0)).to_event(1)\n",
    "posterior_logprob = posterior.log_prob(sample['theta_s'])"
   ]
  },
  {
   "cell_type": "code",
   "execution_count": null,
   "metadata": {
    "tags": []
   },
   "outputs": [],
   "source": [
    "kl_div = (posterior_logprob - prior_logprob).sum() / posterior_logprob.numel()"
   ]
  },
  {
   "cell_type": "code",
   "execution_count": null,
   "metadata": {
    "tags": []
   },
   "outputs": [
    {
     "data": {
      "text/plain": [
       "tensor(12.1567)"
      ]
     },
     "execution_count": 10,
     "metadata": {},
     "output_type": "execute_result"
    }
   ],
   "source": [
    "kl_div"
   ]
  },
  {
   "cell_type": "code",
   "execution_count": null,
   "metadata": {
    "tags": []
   },
   "outputs": [
    {
     "data": {
      "text/plain": [
       "0.9902999588812669"
      ]
     },
     "execution_count": 29,
     "metadata": {},
     "output_type": "execute_result"
    }
   ],
   "source": [
    "from scipy.special import softmax\n",
    "temp = softmax(sample['theta'][20305])\n",
    "- (temp * np.log(temp)).sum() / np.log(17)"
   ]
  },
  {
   "cell_type": "code",
   "execution_count": null,
   "metadata": {
    "tags": []
   },
   "outputs": [
    {
     "name": "stdout",
     "output_type": "stream",
     "text": [
      "encodings.mu_s_plate_S_unconstrained\n",
      "encodings.theta_plate_N_unconstrained\n",
      "encodings.gamma_plate_N_unconstrained\n",
      "encodings.theta_s_plate_N_unconstrained\n",
      "encodings.theta_s_plate_S_unconstrained\n",
      "mu_g.0_transform.loc_unconstrained\n",
      "mu_g.0_transform.diag_scale_unconstrained\n",
      "epsilon.0_transform.loc_unconstrained\n",
      "epsilon.0_transform.diag_scale_unconstrained\n",
      "gamma.0_transform.loc_unconstrained\n",
      "gamma.0_transform.diag_scale_unconstrained\n",
      "kappa.0_transform.loc_unconstrained\n",
      "kappa.0_transform.diag_scale_unconstrained\n",
      "mu_s.0_transform.loc_nn.layers.0.weight\n",
      "mu_s.0_transform.loc_nn.layers.0.bias\n",
      "mu_s.0_transform.loc_nn.layers.1.weight\n",
      "mu_s.0_transform.loc_nn.layers.1.bias\n",
      "mu_s.0_transform.loc_nn.layers.2.weight\n",
      "mu_s.0_transform.loc_nn.layers.2.bias\n",
      "mu_s.0_transform.scale_nn.layers.0.weight\n",
      "mu_s.0_transform.scale_nn.layers.0.bias\n",
      "mu_s.0_transform.scale_nn.layers.1.weight\n",
      "mu_s.0_transform.scale_nn.layers.1.bias\n",
      "mu_s.0_transform.scale_nn.layers.2.weight\n",
      "mu_s.0_transform.scale_nn.layers.2.bias\n",
      "theta_s.0_transform.loc_nn.layers.0.weight\n",
      "theta_s.0_transform.loc_nn.layers.0.bias\n",
      "theta_s.0_transform.loc_nn.layers.1.weight\n",
      "theta_s.0_transform.loc_nn.layers.1.bias\n",
      "theta_s.0_transform.loc_nn.layers.2.weight\n",
      "theta_s.0_transform.loc_nn.layers.2.bias\n",
      "theta_s.0_transform.scale_nn.layers.0.weight\n",
      "theta_s.0_transform.scale_nn.layers.0.bias\n",
      "theta_s.0_transform.scale_nn.layers.1.weight\n",
      "theta_s.0_transform.scale_nn.layers.1.bias\n",
      "theta_s.0_transform.scale_nn.layers.2.weight\n",
      "theta_s.0_transform.scale_nn.layers.2.bias\n",
      "theta.0_transform.loc_nn.layers.0.weight\n",
      "theta.0_transform.loc_nn.layers.0.bias\n",
      "theta.0_transform.loc_nn.layers.1.weight\n",
      "theta.0_transform.loc_nn.layers.1.bias\n",
      "theta.0_transform.loc_nn.layers.2.weight\n",
      "theta.0_transform.loc_nn.layers.2.bias\n",
      "theta.0_transform.scale_nn.layers.0.weight\n",
      "theta.0_transform.scale_nn.layers.0.bias\n",
      "theta.0_transform.scale_nn.layers.1.weight\n",
      "theta.0_transform.scale_nn.layers.1.bias\n",
      "theta.0_transform.scale_nn.layers.2.weight\n",
      "theta.0_transform.scale_nn.layers.2.bias\n"
     ]
    }
   ],
   "source": [
    "for p in state['guide']:\n",
    "    print(p)"
   ]
  },
  {
   "cell_type": "code",
   "execution_count": null,
   "metadata": {
    "tags": []
   },
   "outputs": [
    {
     "data": {
      "text/plain": [
       "tensor([-0.4502, -0.5197, -0.4493, -0.4849, -0.4819, -0.4217, -0.4518, -0.4791,\n",
       "        -0.4511, -0.4809, -0.5053, -0.5033, -0.5320, -0.5725, -0.5210, -0.5101,\n",
       "        -0.4395])"
      ]
     },
     "execution_count": 37,
     "metadata": {},
     "output_type": "execute_result"
    }
   ],
   "source": [
    "state['guide']['gamma.0_transform.loc_unconstrained']"
   ]
  },
  {
   "cell_type": "code",
   "execution_count": null,
   "metadata": {
    "tags": []
   },
   "outputs": [
    {
     "data": {
      "text/plain": [
       "tensor([1.1043, 1.1163, 1.1026, 1.1890, 1.1378, 1.0132, 1.1038, 1.1308])"
      ]
     },
     "execution_count": 48,
     "metadata": {},
     "output_type": "execute_result"
    }
   ],
   "source": [
    "state['guide']['encodings.theta_s_plate_N_unconstrained'].std(0)"
   ]
  },
  {
   "cell_type": "code",
   "execution_count": null,
   "metadata": {
    "tags": []
   },
   "outputs": [
    {
     "data": {
      "text/plain": [
       "tensor([0.1788, 0.1812, 0.1779, 0.1800, 0.1757, 0.1775, 0.1753, 0.1765, 0.1799,\n",
       "        0.1790, 0.1838, 0.1775, 0.1792, 0.1795, 0.1870, 0.1823, 0.1760, 0.1823,\n",
       "        0.1796, 0.1794, 0.1703, 0.1739, 0.1734, 0.1829])"
      ]
     },
     "execution_count": 45,
     "metadata": {},
     "output_type": "execute_result"
    }
   ],
   "source": [
    "state['guide']['encodings.mu_s_plate_S_unconstrained'].std(0)"
   ]
  },
  {
   "cell_type": "markdown",
   "metadata": {
    "jp-MarkdownHeadingCollapsed": true,
    "tags": []
   },
   "source": [
    "# Test Dataloader"
   ]
  },
  {
   "cell_type": "code",
   "execution_count": null,
   "metadata": {
    "tags": []
   },
   "outputs": [],
   "source": [
    "n_subjects = 350\n",
    "cards_full = {\"plate_S\": n_subjects, \"plate_T\": 2, \"plate_N\": 59_412}\n",
    "cards_reduced = {\"plate_S\": 8, \"plate_T\": 2, \"plate_N\": 2_048}\n",
    "num_difumo = 128\n",
    "num_labels = 17"
   ]
  },
  {
   "cell_type": "code",
   "execution_count": null,
   "metadata": {
    "tags": []
   },
   "outputs": [],
   "source": [
    "PATH_TEMPLATE_FULL_WORK = '/gpfswork/rech/hjt/utd91af/data/hcp_pearsons_coeffs_difumo/%s_T%d_difumo%d_preproc_pearsons_coeffs_full.npy'"
   ]
  },
  {
   "cell_type": "code",
   "execution_count": null,
   "metadata": {
    "tags": []
   },
   "outputs": [
    {
     "name": "stderr",
     "output_type": "stream",
     "text": [
      "/gpfsdswork/projects/rech/hjt/utd91af/pavi_project/experiments/5_learning_curves_model_G_norm/../utils/dataset.py:65: UserWarning: Wrong number of subjects between `num_subjects` and `subject_list`.Only the firsts in the list are selected\n",
      "  warnings.warn(\n"
     ]
    }
   ],
   "source": [
    "dataset = HCPDataset(\n",
    "    full_cards=cards_full,\n",
    "    reduced_cards=cards_reduced,\n",
    "    num_difumo_components=num_difumo,\n",
    "    path_template=PATH_TEMPLATE_FULL,\n",
    "    drop_last=False,\n",
    "    ignore_plate_t=False,\n",
    "    normalize_inputs=True,\n",
    "    quantile_top_corr=0.8,\n",
    ")"
   ]
  },
  {
   "cell_type": "code",
   "execution_count": null,
   "metadata": {
    "tags": []
   },
   "outputs": [],
   "source": [
    "dataloader = HCPDataLoader(\n",
    "    dataset,\n",
    "    num_workers=2,\n",
    "    prefetch_factor=4,\n",
    "    # pin_memory=True\n",
    ")"
   ]
  },
  {
   "cell_type": "code",
   "execution_count": null,
   "metadata": {
    "tags": []
   },
   "outputs": [],
   "source": [
    "data, idx = next(iter(dataloader))"
   ]
  },
  {
   "cell_type": "code",
   "execution_count": null,
   "metadata": {
    "tags": []
   },
   "outputs": [
    {
     "data": {
      "text/plain": [
       "torch.Size([8, 2, 2048, 128])"
      ]
     },
     "execution_count": 22,
     "metadata": {},
     "output_type": "execute_result"
    }
   ],
   "source": [
    "data.shape"
   ]
  },
  {
   "cell_type": "code",
   "execution_count": null,
   "metadata": {
    "tags": []
   },
   "outputs": [
    {
     "name": "stderr",
     "output_type": "stream",
     "text": [
      "100%|██████████| 10/10 [01:18<00:00,  7.86s/it]\n"
     ]
    }
   ],
   "source": [
    "for _ in tqdm(range(10)):\n",
    "    data, idx = next(iter(dataloader))"
   ]
  },
  {
   "cell_type": "code",
   "execution_count": null,
   "metadata": {},
   "outputs": [],
   "source": []
  },
  {
   "cell_type": "markdown",
   "metadata": {},
   "source": [
    "# Test guide"
   ]
  },
  {
   "cell_type": "code",
   "execution_count": 2,
   "metadata": {
    "tags": []
   },
   "outputs": [],
   "source": [
    "n_job = 30\n",
    "    \n",
    "with open('jobs.json', 'r') as f:\n",
    "    jobs = json.load(f)\n",
    "\n",
    "subjects_idx = jobs['sub_list'][n_job]\n",
    "subjects_list = SUBJECTS_LIST[subjects_idx]\n",
    "n_subjects = len(subjects_list)"
   ]
  },
  {
   "cell_type": "code",
   "execution_count": 3,
   "metadata": {
    "tags": []
   },
   "outputs": [],
   "source": [
    "from script_hcp import main as import_module\n",
    "\n",
    "path_run = Path('runs') / 'inference_30_S384_HCP_baseline_2'\n",
    "\n",
    "inference_module = import_module(\n",
    "    subjects_list=subjects_list,\n",
    "    num_iter=42,\n",
    "    load_state=path_run / 'checkpoints' / '12_state.pt',\n",
    "    return_inference_module=True,\n",
    "    device=DEVICE\n",
    ")"
   ]
  },
  {
   "cell_type": "code",
   "execution_count": 34,
   "metadata": {
    "tags": []
   },
   "outputs": [],
   "source": [
    "cards_full = {\"plate_S\": n_subjects, \"plate_T\": 4, \"plate_N\": 59_412}\n",
    "cards_reduced = {\"plate_S\": 16, \"plate_T\": 2, \"plate_N\": 1024}\n",
    "num_difumo = 128\n",
    "num_labels = 17\n",
    "\n",
    "dataset = HCPDataset(\n",
    "    full_cards=cards_full,\n",
    "    reduced_cards=cards_reduced,\n",
    "    num_difumo_components=num_difumo,\n",
    "    subject_list=subjects_list,\n",
    "    path_template=PATH_TEMPLATE_FULL,\n",
    "    drop_last=False,\n",
    "    ignore_plate_t=True,\n",
    "    group_LR_RL_scans=True,\n",
    "    normalize_inputs=True,\n",
    "    quantile_top_corr=0.8,\n",
    ")\n",
    "\n",
    "dataloader = HCPDataLoader(\n",
    "    dataset,\n",
    "    num_workers=2,\n",
    "    # pin_memory=True\n",
    ")"
   ]
  },
  {
   "cell_type": "code",
   "execution_count": 9,
   "metadata": {
    "tags": []
   },
   "outputs": [],
   "source": [
    "data, idx = next(iter(dataloader))"
   ]
  },
  {
   "cell_type": "code",
   "execution_count": 10,
   "metadata": {},
   "outputs": [
    {
     "data": {
      "text/plain": [
       "{'plate_S': tensor([279, 312, 353, 280, 168,  18,  41,  14,  23, 379, 183, 184, 116, 307,\n",
       "         123, 219, 279, 312, 353, 280, 168,  18,  41,  14,  23, 379, 183, 184,\n",
       "         116, 307, 123, 219]),\n",
       " 'plate_T': tensor([0, 1]),\n",
       " 'plate_N': tensor([ 8061, 13081, 28786,  ..., 16675, 22857, 32011])}"
      ]
     },
     "execution_count": 10,
     "metadata": {},
     "output_type": "execute_result"
    }
   ],
   "source": [
    "idx"
   ]
  },
  {
   "cell_type": "code",
   "execution_count": 35,
   "metadata": {
    "tags": []
   },
   "outputs": [
    {
     "name": "stderr",
     "output_type": "stream",
     "text": [
      "/home/mind/alebris/storage/miniconda/envs/pavi_project/lib/python3.10/site-packages/pyro/util.py:303: UserWarning: Found vars in model but not guide: {'l_s'}\n",
      "  warnings.warn(f\"Found vars in model but not guide: {bad_sites}\")\n"
     ]
    }
   ],
   "source": [
    "trace_model, trace_guide = inference_module.elbo._get_trace(\n",
    "    inference_module.model,\n",
    "    inference_module.guide,\n",
    "    args=(),\n",
    "    kwargs={\n",
    "        'data': data,\n",
    "        'idx': idx\n",
    "    }\n",
    ")"
   ]
  },
  {
   "cell_type": "code",
   "execution_count": null,
   "metadata": {},
   "outputs": [
    {
     "data": {
      "text/plain": [
       "tensor([0.0162, 0.0154, 0.0169, 0.0171, 0.0158, 0.0159, 0.0157, 0.0166, 0.0171,\n",
       "        0.0154, 0.0174, 0.0161, 0.0170, 0.0161, 0.0179, 0.0162, 0.0160],\n",
       "       grad_fn=<PowBackward0>)"
      ]
     },
     "execution_count": 14,
     "metadata": {},
     "output_type": "execute_result"
    }
   ],
   "source": [
    "def mean_sigma(values, dim=None):\n",
    "    return (values ** -2).mean(dim) ** -0.5"
   ]
  },
  {
   "cell_type": "code",
   "execution_count": null,
   "metadata": {},
   "outputs": [
    {
     "ename": "NameError",
     "evalue": "name 'mean_sigma' is not defined",
     "output_type": "error",
     "traceback": [
      "\u001b[0;31m---------------------------------------------------------------------------\u001b[0m",
      "\u001b[0;31mNameError\u001b[0m                                 Traceback (most recent call last)",
      "\u001b[1;32m/home/mind/alebris/projects/pavi_project/experiments_parcellation/2_GST/explore.ipynb Cell 50\u001b[0m in \u001b[0;36m1\n\u001b[0;32m----> <a href='vscode-notebook-cell://ssh-remote%2Bmarg039/home/mind/alebris/projects/pavi_project/experiments_parcellation/2_GST/explore.ipynb#Y100sdnNjb2RlLXJlbW90ZQ%3D%3D?line=0'>1</a>\u001b[0m mean_sigma(trace_guide\u001b[39m.\u001b[39mnodes[\u001b[39m'\u001b[39m\u001b[39msigma\u001b[39m\u001b[39m'\u001b[39m][\u001b[39m'\u001b[39m\u001b[39mvalue\u001b[39m\u001b[39m'\u001b[39m], dim\u001b[39m=\u001b[39m\u001b[39m-\u001b[39m\u001b[39m1\u001b[39m)\n",
      "\u001b[0;31mNameError\u001b[0m: name 'mean_sigma' is not defined"
     ]
    }
   ],
   "source": [
    "mean_sigma(trace_guide.nodes['sigma']['value'], dim=-1)"
   ]
  },
  {
   "cell_type": "code",
   "execution_count": 12,
   "metadata": {},
   "outputs": [
    {
     "ename": "KeyError",
     "evalue": "'sigma'",
     "output_type": "error",
     "traceback": [
      "\u001b[0;31m---------------------------------------------------------------------------\u001b[0m",
      "\u001b[0;31mKeyError\u001b[0m                                  Traceback (most recent call last)",
      "\u001b[1;32m/home/mind/alebris/projects/pavi_project/experiments_parcellation/3_camcan/explore.ipynb Cell 56\u001b[0m in \u001b[0;36m1\n\u001b[0;32m----> <a href='vscode-notebook-cell://ssh-remote%2Bmarg031/home/mind/alebris/projects/pavi_project/experiments_parcellation/3_camcan/explore.ipynb#Y110sdnNjb2RlLXJlbW90ZQ%3D%3D?line=0'>1</a>\u001b[0m trace_guide\u001b[39m.\u001b[39mnodes[\u001b[39m'\u001b[39m\u001b[39msigma\u001b[39m\u001b[39m'\u001b[39m][\u001b[39m'\u001b[39m\u001b[39mfn\u001b[39m\u001b[39m'\u001b[39m]\u001b[39m.\u001b[39mtransforms[\u001b[39m1\u001b[39m]\u001b[39m.\u001b[39mloc\u001b[39m.\u001b[39mexp()\n",
      "\u001b[0;31mKeyError\u001b[0m: 'sigma'"
     ]
    }
   ],
   "source": [
    "trace_guide.nodes['sigma']['fn'].transforms[1].loc.exp()"
   ]
  },
  {
   "cell_type": "code",
   "execution_count": 36,
   "metadata": {},
   "outputs": [
    {
     "data": {
      "text/plain": [
       "tensor([0.0053, 0.0153, 0.0338,  ..., 0.0208, 0.0183, 0.0227],\n",
       "       grad_fn=<ExpBackward0>)"
      ]
     },
     "execution_count": 36,
     "metadata": {},
     "output_type": "execute_result"
    }
   ],
   "source": [
    "trace_guide.nodes['epsilon']['fn'].transforms[1].loc.exp()"
   ]
  },
  {
   "cell_type": "code",
   "execution_count": 43,
   "metadata": {},
   "outputs": [
    {
     "data": {
      "text/plain": [
       "tensor([0.0624], grad_fn=<AddBackward0>)"
      ]
     },
     "execution_count": 43,
     "metadata": {},
     "output_type": "execute_result"
    }
   ],
   "source": [
    "trace_guide.nodes['kappa']['value']"
   ]
  },
  {
   "cell_type": "code",
   "execution_count": 44,
   "metadata": {},
   "outputs": [
    {
     "data": {
      "text/plain": [
       "tensor([0.0003, 0.0007, 0.0012,  ..., 0.0011, 0.0009, 0.0010],\n",
       "       grad_fn=<AddBackward0>)"
      ]
     },
     "execution_count": 44,
     "metadata": {},
     "output_type": "execute_result"
    }
   ],
   "source": [
    "trace_guide.nodes['mu_g']['fn'].transforms[1].scale"
   ]
  },
  {
   "cell_type": "code",
   "execution_count": 45,
   "metadata": {},
   "outputs": [
    {
     "data": {
      "text/plain": [
       "Parameter containing:\n",
       "tensor([0.0046, 0.0235, 0.1782,  ..., 0.0478, 0.0327, 0.0456],\n",
       "       requires_grad=True)"
      ]
     },
     "execution_count": 45,
     "metadata": {},
     "output_type": "execute_result"
    }
   ],
   "source": [
    "trace_guide.nodes['mu_g']['fn'].transforms[1].loc"
   ]
  },
  {
   "cell_type": "code",
   "execution_count": 46,
   "metadata": {},
   "outputs": [
    {
     "data": {
      "text/plain": [
       "tensor([[0.0068, 0.0291, 0.1686,  ..., 0.0441, 0.0241, 0.0418]],\n",
       "       grad_fn=<MeanBackward1>)"
      ]
     },
     "execution_count": 46,
     "metadata": {},
     "output_type": "execute_result"
    }
   ],
   "source": [
    "trace_guide.nodes['mu_s']['fn'].transforms[1].loc.mean(0)"
   ]
  },
  {
   "cell_type": "code",
   "execution_count": 47,
   "metadata": {},
   "outputs": [
    {
     "data": {
      "text/plain": [
       "tensor([[0.0064, 0.0118, 0.0469,  ..., 0.0190, 0.0088, 0.0224]],\n",
       "       grad_fn=<StdBackward0>)"
      ]
     },
     "execution_count": 47,
     "metadata": {},
     "output_type": "execute_result"
    }
   ],
   "source": [
    "trace_guide.nodes['mu_s']['fn'].transforms[1].loc.std(0)"
   ]
  },
  {
   "cell_type": "code",
   "execution_count": 48,
   "metadata": {},
   "outputs": [
    {
     "data": {
      "text/plain": [
       "tensor([[0.0008, 0.0009, 0.0007,  ..., 0.0009, 0.0012, 0.0011]],\n",
       "       grad_fn=<SelectBackward0>)"
      ]
     },
     "execution_count": 48,
     "metadata": {},
     "output_type": "execute_result"
    }
   ],
   "source": [
    "trace_guide.nodes['mu_s']['fn'].transforms[1].scale[0]"
   ]
  },
  {
   "cell_type": "code",
   "execution_count": 49,
   "metadata": {},
   "outputs": [
    {
     "data": {
      "text/plain": [
       "tensor([[[ 7.6992e-03,  3.0312e-02,  1.8089e-01,  ...,  4.8882e-02,\n",
       "           3.4654e-02,  7.3219e-02]],\n",
       "\n",
       "        [[ 1.4260e-02,  3.4217e-02,  1.7596e-01,  ...,  6.1506e-02,\n",
       "           2.3735e-02,  2.9507e-02]],\n",
       "\n",
       "        [[ 8.3715e-04,  5.6318e-02,  3.1182e-02,  ...,  4.2323e-02,\n",
       "           1.0397e-02,  7.1201e-02]],\n",
       "\n",
       "        ...,\n",
       "\n",
       "        [[ 1.8587e-02,  2.0930e-02,  2.0296e-01,  ...,  2.0165e-02,\n",
       "           2.7961e-02, -1.1353e-02]],\n",
       "\n",
       "        [[ 4.3398e-03,  3.6509e-02,  1.9748e-01,  ...,  5.0368e-02,\n",
       "           2.2863e-02,  3.4644e-02]],\n",
       "\n",
       "        [[ 1.4260e-05,  3.9250e-02,  1.8747e-01,  ...,  4.5870e-02,\n",
       "           1.7114e-02,  7.6771e-02]]], grad_fn=<ReshapeAliasBackward0>)"
      ]
     },
     "execution_count": 49,
     "metadata": {},
     "output_type": "execute_result"
    }
   ],
   "source": [
    "trace_guide.nodes['mu_s']['fn'].transforms[1].loc"
   ]
  },
  {
   "cell_type": "code",
   "execution_count": 50,
   "metadata": {},
   "outputs": [
    {
     "ename": "KeyError",
     "evalue": "'mu_st'",
     "output_type": "error",
     "traceback": [
      "\u001b[0;31m---------------------------------------------------------------------------\u001b[0m",
      "\u001b[0;31mKeyError\u001b[0m                                  Traceback (most recent call last)",
      "\u001b[1;32m/home/mind/alebris/projects/pavi_project/experiments_parcellation/3_camcan/explore.ipynb Cell 65\u001b[0m in \u001b[0;36m1\n\u001b[0;32m----> <a href='vscode-notebook-cell://ssh-remote%2Bmarg031/home/mind/alebris/projects/pavi_project/experiments_parcellation/3_camcan/explore.ipynb#Y120sdnNjb2RlLXJlbW90ZQ%3D%3D?line=0'>1</a>\u001b[0m trace_guide\u001b[39m.\u001b[39mnodes[\u001b[39m'\u001b[39m\u001b[39mmu_st\u001b[39m\u001b[39m'\u001b[39m][\u001b[39m'\u001b[39m\u001b[39mfn\u001b[39m\u001b[39m'\u001b[39m]\u001b[39m.\u001b[39mtransforms[\u001b[39m1\u001b[39m]\u001b[39m.\u001b[39mloc\u001b[39m.\u001b[39mmean(\u001b[39m1\u001b[39m)\n",
      "\u001b[0;31mKeyError\u001b[0m: 'mu_st'"
     ]
    }
   ],
   "source": [
    "trace_guide.nodes['mu_st']['fn'].transforms[1].loc.mean(1)"
   ]
  },
  {
   "cell_type": "code",
   "execution_count": 19,
   "metadata": {},
   "outputs": [
    {
     "data": {
      "text/plain": [
       "tensor([[[ 0.0133,  0.0413,  0.1307,  ..., -0.0064, -0.0115, -0.0011]],\n",
       "\n",
       "        [[ 0.0114,  0.0677,  0.1273,  ..., -0.0058, -0.0109, -0.0009]],\n",
       "\n",
       "        [[ 0.0150,  0.0548,  0.1129,  ..., -0.0063, -0.0112, -0.0010]],\n",
       "\n",
       "        [[ 0.0043,  0.0616,  0.1513,  ..., -0.0061, -0.0108, -0.0010]]],\n",
       "       grad_fn=<SelectBackward0>)"
      ]
     },
     "execution_count": 19,
     "metadata": {},
     "output_type": "execute_result"
    }
   ],
   "source": [
    "trace_guide.nodes['mu_st']['fn'].transforms[1].loc[0]"
   ]
  },
  {
   "cell_type": "code",
   "execution_count": 27,
   "metadata": {},
   "outputs": [
    {
     "data": {
      "text/plain": [
       "tensor([[0.0005, 0.0005, 0.0005,  ..., 0.0005, 0.0006, 0.0005],\n",
       "        [0.0005, 0.0005, 0.0005,  ..., 0.0004, 0.0004, 0.0005],\n",
       "        [0.1482, 0.1475, 0.1509,  ..., 0.1502, 0.1461, 0.1465],\n",
       "        ...,\n",
       "        [0.1408, 0.1480, 0.1443,  ..., 0.1449, 0.1525, 0.1461],\n",
       "        [0.0004, 0.0004, 0.0004,  ..., 0.0004, 0.0004, 0.0004],\n",
       "        [0.1438, 0.1514, 0.1510,  ..., 0.1452, 0.1460, 0.1466]],\n",
       "       grad_fn=<ReshapeAliasBackward0>)"
      ]
     },
     "execution_count": 27,
     "metadata": {},
     "output_type": "execute_result"
    }
   ],
   "source": [
    "trace_guide.nodes['mu_st']['fn'].transforms[1].scale[10][0,0].reshape(17, 128)"
   ]
  },
  {
   "cell_type": "code",
   "execution_count": 29,
   "metadata": {},
   "outputs": [
    {
     "data": {
      "text/plain": [
       "tensor([0.0071, 0.0248, 0.0327,  ..., 0.1455, 0.1476, 0.1480],\n",
       "       grad_fn=<ExpBackward0>)"
      ]
     },
     "execution_count": 29,
     "metadata": {},
     "output_type": "execute_result"
    }
   ],
   "source": [
    "trace_guide.nodes['sigma']['fn'].transforms[1].loc.exp()"
   ]
  },
  {
   "cell_type": "code",
   "execution_count": 31,
   "metadata": {},
   "outputs": [
    {
     "data": {
      "text/plain": [
       "tensor([0.0015, 0.0035, 0.0041,  ..., 0.0103, 0.0101, 0.0103],\n",
       "       grad_fn=<ExpBackward0>)"
      ]
     },
     "execution_count": 31,
     "metadata": {},
     "output_type": "execute_result"
    }
   ],
   "source": [
    "trace_guide.nodes['epsilon']['fn'].transforms[1].loc.exp()"
   ]
  },
  {
   "cell_type": "code",
   "execution_count": 51,
   "metadata": {},
   "outputs": [
    {
     "data": {
      "text/plain": [
       "tensor([0.8526, 0.6784, 0.7010, 0.5337, 0.5388, 0.5191, 0.7130, 0.5056, 0.4753,\n",
       "        0.5754, 0.5778, 0.6049, 0.5654, 0.5695, 0.5184, 0.8683, 0.4750],\n",
       "       grad_fn=<ExpBackward0>)"
      ]
     },
     "execution_count": 51,
     "metadata": {},
     "output_type": "execute_result"
    }
   ],
   "source": [
    "trace_guide.nodes['gamma']['fn'].transforms[0].loc.exp()"
   ]
  },
  {
   "cell_type": "code",
   "execution_count": 52,
   "metadata": {},
   "outputs": [
    {
     "data": {
      "text/plain": [
       "tensor([[[-0.3335,  0.4970, -0.1471,  ...,  0.2502,  0.7069, -0.0683],\n",
       "         [-0.0848,  0.4006, -0.1122,  ...,  0.2883, -0.0568,  0.0760],\n",
       "         [ 0.3582,  0.7292, -0.0465,  ...,  0.0355,  0.4636, -0.0631],\n",
       "         ...,\n",
       "         [ 0.3480,  0.6200, -0.1223,  ..., -0.1201, -0.0553,  0.0825],\n",
       "         [ 0.2115,  1.1319, -0.3273,  ...,  0.0699,  0.8254, -0.0388],\n",
       "         [-0.2316,  0.6067, -0.2823,  ...,  0.5156,  0.3770,  0.0612]],\n",
       "\n",
       "        [[-0.5464,  0.2485,  0.0835,  ...,  0.2151,  0.7757, -0.2111],\n",
       "         [-0.3213,  0.1794,  0.1856,  ...,  0.2652,  0.0129, -0.0275],\n",
       "         [ 0.1202,  0.4752,  0.2766,  ...,  0.0249,  0.4812, -0.1850],\n",
       "         ...,\n",
       "         [ 0.0868,  0.3651,  0.1229,  ..., -0.1200, -0.0215,  0.0090],\n",
       "         [ 0.0205,  0.8699, -0.1160,  ...,  0.0697,  0.8326, -0.1380],\n",
       "         [-0.4974,  0.3845,  0.0264,  ...,  0.4583,  0.3622, -0.0550]],\n",
       "\n",
       "        [[-0.5265,  0.3651,  0.0366,  ..., -0.0722,  0.8255, -0.3573],\n",
       "         [-0.4335,  0.2303,  0.0902,  ...,  0.0108,  0.0586, -0.2742],\n",
       "         [-0.1154,  0.5573,  0.1999,  ..., -0.2188,  0.5427, -0.4336],\n",
       "         ...,\n",
       "         [-0.1435,  0.4024,  0.1512,  ..., -0.3288,  0.0206, -0.2628],\n",
       "         [-0.1110,  0.9060, -0.1196,  ..., -0.1522,  0.8963, -0.3639],\n",
       "         [-0.4757,  0.4462, -0.0491,  ...,  0.1665,  0.4393, -0.2609]],\n",
       "\n",
       "        ...,\n",
       "\n",
       "        [[ 0.0756,  0.0554,  0.0879,  ...,  0.1115,  1.1404, -0.2244],\n",
       "         [ 0.3368,  0.0385,  0.1010,  ...,  0.1723,  0.3528, -0.0793],\n",
       "         [ 0.9161,  0.3688,  0.1652,  ..., -0.1166,  0.9312, -0.2120],\n",
       "         ...,\n",
       "         [ 0.9386,  0.2812, -0.0748,  ..., -0.2626,  0.3759,  0.0029],\n",
       "         [ 0.8435,  0.7726, -0.3101,  ..., -0.0998,  1.3878, -0.1346],\n",
       "         [ 0.1549,  0.2377, -0.1091,  ...,  0.4044,  0.8032, -0.0562]],\n",
       "\n",
       "        [[-0.0867,  0.1014,  0.0818,  ...,  0.2703,  0.5359, -0.5258],\n",
       "         [ 0.1356,  0.0297,  0.1394,  ...,  0.2922, -0.2702, -0.4058],\n",
       "         [ 0.6313,  0.3852,  0.2034,  ...,  0.0256,  0.2697, -0.5544],\n",
       "         ...,\n",
       "         [ 0.6085,  0.3017,  0.0506,  ..., -0.1357, -0.2269, -0.4127],\n",
       "         [ 0.6024,  0.7883, -0.2409,  ...,  0.0521,  0.6885, -0.5335],\n",
       "         [-0.0190,  0.2280, -0.1113,  ...,  0.4736,  0.1579, -0.4312]],\n",
       "\n",
       "        [[ 0.1289,  0.3326,  0.0156,  ...,  0.0627,  0.8177, -0.1693],\n",
       "         [ 0.3773,  0.3364,  0.1347,  ...,  0.0455,  0.0239,  0.0189],\n",
       "         [ 0.9296,  0.5908,  0.1892,  ..., -0.1673,  0.5480, -0.0923],\n",
       "         ...,\n",
       "         [ 0.9312,  0.5878,  0.0862,  ..., -0.3282,  0.0672,  0.0479],\n",
       "         [ 0.8487,  0.9482, -0.2041,  ..., -0.1256,  0.9303, -0.0777],\n",
       "         [ 0.2032,  0.5054, -0.0347,  ...,  0.2622,  0.4333, -0.0050]]],\n",
       "       grad_fn=<ReshapeAliasBackward0>)"
      ]
     },
     "execution_count": 52,
     "metadata": {},
     "output_type": "execute_result"
    }
   ],
   "source": [
    "trace_guide.nodes['theta_s']['fn'].transforms[0].loc"
   ]
  },
  {
   "cell_type": "code",
   "execution_count": 53,
   "metadata": {},
   "outputs": [
    {
     "data": {
      "text/plain": [
       "tensor([[-0.2013,  0.1224,  0.0180,  ...,  0.1247,  0.5626, -0.2641],\n",
       "        [ 0.0182,  0.0458,  0.0939,  ...,  0.1688, -0.1580, -0.1181],\n",
       "        [ 0.4885,  0.3544,  0.1819,  ..., -0.0763,  0.3252, -0.2487],\n",
       "        ...,\n",
       "        [ 0.4812,  0.2425,  0.0679,  ..., -0.2393, -0.1682, -0.0553],\n",
       "        [ 0.4098,  0.7145, -0.1954,  ..., -0.0532,  0.7051, -0.2222],\n",
       "        [-0.1343,  0.2440, -0.0953,  ...,  0.3433,  0.2206, -0.1335]],\n",
       "       grad_fn=<MeanBackward1>)"
      ]
     },
     "execution_count": 53,
     "metadata": {},
     "output_type": "execute_result"
    }
   ],
   "source": [
    "trace_guide.nodes['theta_s']['fn'].transforms[0].loc.mean(0)"
   ]
  },
  {
   "cell_type": "code",
   "execution_count": 54,
   "metadata": {},
   "outputs": [
    {
     "data": {
      "text/plain": [
       "tensor([[ 0.0790,  0.2384, -0.1549,  ...,  0.1251,  0.3098, -0.1520],\n",
       "        [ 0.0243,  0.2357, -0.1565,  ...,  0.1103,  0.3077, -0.1415],\n",
       "        [ 0.0530,  0.2491, -0.1219,  ...,  0.0750,  0.3266, -0.1518],\n",
       "        ...,\n",
       "        [ 0.1010,  0.2560, -0.1078,  ...,  0.0716,  0.3352, -0.1628],\n",
       "        [ 0.1259,  0.2611, -0.0962,  ...,  0.0644,  0.3419, -0.1692],\n",
       "        [ 0.1992,  0.2798, -0.0518,  ...,  0.0301,  0.3670, -0.1893]],\n",
       "       grad_fn=<ReshapeAliasBackward0>)"
      ]
     },
     "execution_count": 54,
     "metadata": {},
     "output_type": "execute_result"
    }
   ],
   "source": [
    "trace_guide.nodes['theta']['fn'].transforms[0].loc"
   ]
  },
  {
   "cell_type": "code",
   "execution_count": 59,
   "metadata": {},
   "outputs": [
    {
     "data": {
      "text/plain": [
       "tensor([0.5022, 0.3714, 0.3152, 0.3127, 0.2922, 0.3021, 0.3217, 0.3351, 0.1550,\n",
       "        0.3215, 0.2394, 0.2668, 0.2757, 0.3236, 0.2784, 0.4425, 0.2008],\n",
       "       grad_fn=<StdBackward0>)"
      ]
     },
     "execution_count": 59,
     "metadata": {},
     "output_type": "execute_result"
    }
   ],
   "source": [
    "trace_guide.nodes['theta_s']['fn'].transforms[0].loc.reshape(-1, 17).std(0)"
   ]
  },
  {
   "cell_type": "code",
   "execution_count": 57,
   "metadata": {},
   "outputs": [
    {
     "data": {
      "text/plain": [
       "tensor([0.8526, 0.6784, 0.7010, 0.5337, 0.5388, 0.5191, 0.7130, 0.5056, 0.4753,\n",
       "        0.5754, 0.5778, 0.6049, 0.5654, 0.5695, 0.5184, 0.8683, 0.4750],\n",
       "       grad_fn=<ExpBackward0>)"
      ]
     },
     "execution_count": 57,
     "metadata": {},
     "output_type": "execute_result"
    }
   ],
   "source": [
    "trace_guide.nodes['gamma']['fn'].transforms[0].loc.exp()"
   ]
  },
  {
   "cell_type": "code",
   "execution_count": 53,
   "metadata": {},
   "outputs": [
    {
     "data": {
      "text/plain": [
       "tensor([[0.0205, 0.0287, 0.0241,  ..., 0.0363, 0.0152, 0.0143],\n",
       "        [0.0146, 0.0154, 0.0161,  ..., 0.0322, 0.0098, 0.0156],\n",
       "        [0.0171, 0.0156, 0.0149,  ..., 0.0210, 0.0443, 0.0292],\n",
       "        ...,\n",
       "        [0.0242, 0.0213, 0.0175,  ..., 0.0196, 0.0183, 0.0159],\n",
       "        [0.0325, 0.0151, 0.0153,  ..., 0.0160, 0.0273, 0.0349],\n",
       "        [0.0147, 0.0084, 0.0106,  ..., 0.0102, 0.0506, 0.0170]],\n",
       "       grad_fn=<AddBackward0>)"
      ]
     },
     "execution_count": 53,
     "metadata": {},
     "output_type": "execute_result"
    }
   ],
   "source": [
    "trace_guide.nodes['epsilon']['value']"
   ]
  },
  {
   "cell_type": "code",
   "execution_count": 182,
   "metadata": {},
   "outputs": [
    {
     "data": {
      "text/plain": [
       "tensor([[[ 0.0519,  0.0916,  0.0519,  ...,  0.0184,  0.0237,  0.0669]],\n",
       "\n",
       "        [[ 0.0595,  0.0483,  0.0349,  ...,  0.0181,  0.0239,  0.0320]],\n",
       "\n",
       "        [[ 0.0116,  0.0691,  0.0939,  ..., -0.0037,  0.0661,  0.0252]],\n",
       "\n",
       "        ...,\n",
       "\n",
       "        [[ 0.0574,  0.0503,  0.0370,  ...,  0.0090,  0.0277,  0.0186]],\n",
       "\n",
       "        [[ 0.0434,  0.0830,  0.0293,  ...,  0.0286,  0.0241,  0.0331]],\n",
       "\n",
       "        [[ 0.0423,  0.0937,  0.0400,  ...,  0.0077,  0.0359,  0.0263]]],\n",
       "       grad_fn=<MeanBackward1>)"
      ]
     },
     "execution_count": 182,
     "metadata": {},
     "output_type": "execute_result"
    }
   ],
   "source": [
    "trace_guide.nodes['mu_st']['fn'].transforms[1].loc.mean(1)"
   ]
  },
  {
   "cell_type": "code",
   "execution_count": 26,
   "metadata": {},
   "outputs": [
    {
     "data": {
      "text/plain": [
       "tensor([[0.0148],\n",
       "        [0.0047],\n",
       "        [0.0086],\n",
       "        [0.0107],\n",
       "        [0.0054],\n",
       "        [0.0069],\n",
       "        [0.0190],\n",
       "        [0.0175],\n",
       "        [0.0160],\n",
       "        [0.0121],\n",
       "        [0.0142],\n",
       "        [0.0213],\n",
       "        [0.0043],\n",
       "        [0.0182],\n",
       "        [0.0155],\n",
       "        [0.0120]], grad_fn=<SelectBackward0>)"
      ]
     },
     "execution_count": 26,
     "metadata": {},
     "output_type": "execute_result"
    }
   ],
   "source": [
    "trace_guide.nodes['mu_st']['fn'].transforms[1].loc.std(1)[..., 0]"
   ]
  },
  {
   "cell_type": "code",
   "execution_count": 169,
   "metadata": {},
   "outputs": [
    {
     "data": {
      "text/plain": [
       "torch.Size([16, 2176])"
      ]
     },
     "execution_count": 169,
     "metadata": {},
     "output_type": "execute_result"
    }
   ],
   "source": [
    "foo = trace_guide.nodes['mu_st']['fn'].transforms[1].loc.mean(1).reshape(16, 2176)\n",
    "foo.shape"
   ]
  },
  {
   "cell_type": "code",
   "execution_count": 174,
   "metadata": {},
   "outputs": [
    {
     "data": {
      "text/plain": [
       "tensor(0.0079, grad_fn=<MeanBackward0>)"
      ]
     },
     "execution_count": 174,
     "metadata": {},
     "output_type": "execute_result"
    }
   ],
   "source": [
    "foo.std(0).mean()"
   ]
  },
  {
   "cell_type": "code",
   "execution_count": 194,
   "metadata": {},
   "outputs": [],
   "source": [
    "scales = {\n",
    "    rv: 1 / np.prod([cards_full[plate] for plate in inference_module.guide.sample_plate[rv]])\n",
    "    if rv in inference_module.guide.sample_plate else 1\n",
    "    for rv in inference_module.guide.transform_modules\n",
    "}"
   ]
  },
  {
   "cell_type": "code",
   "execution_count": 195,
   "metadata": {},
   "outputs": [
    {
     "data": {
      "text/plain": [
       "{'mu_g': 1,\n",
       " 'epsilon': 1,\n",
       " 'sigma': 1,\n",
       " 'kappa': 1,\n",
       " 'gamma': 1,\n",
       " 'mu_s': 0.005208333333333333,\n",
       " 'mu_st': 0.0013020833333333333,\n",
       " 'theta_s': 8.7664669314841e-08,\n",
       " 'theta': 1.683161650844947e-05}"
      ]
     },
     "execution_count": 195,
     "metadata": {},
     "output_type": "execute_result"
    }
   ],
   "source": [
    "scales"
   ]
  },
  {
   "cell_type": "code",
   "execution_count": 193,
   "metadata": {},
   "outputs": [
    {
     "data": {
      "text/plain": [
       "[192]"
      ]
     },
     "execution_count": 193,
     "metadata": {},
     "output_type": "execute_result"
    }
   ],
   "source": [
    "[cards_full[plate] for plate in inference_module.guide.sample_plate['mu_s']]"
   ]
  },
  {
   "cell_type": "code",
   "execution_count": 143,
   "metadata": {},
   "outputs": [
    {
     "data": {
      "text/plain": [
       "tensor([0.0196, 0.0192, 0.0189,  ..., 0.0071, 0.0079, 0.0071],\n",
       "       grad_fn=<StdBackward0>)"
      ]
     },
     "execution_count": 143,
     "metadata": {},
     "output_type": "execute_result"
    }
   ],
   "source": [
    "(foo - foo.mean(1)[:, None]).reshape(-1, 2176).std(0)"
   ]
  },
  {
   "cell_type": "code",
   "execution_count": 167,
   "metadata": {},
   "outputs": [
    {
     "data": {
      "text/plain": [
       "tensor(1.8963e-05, grad_fn=<MeanBackward0>)"
      ]
     },
     "execution_count": 167,
     "metadata": {},
     "output_type": "execute_result"
    }
   ],
   "source": [
    "trace_guide.nodes['mu_s']['fn'].transforms[1].loc.std(0).mean()"
   ]
  },
  {
   "cell_type": "code",
   "execution_count": 161,
   "metadata": {},
   "outputs": [
    {
     "data": {
      "text/plain": [
       "tensor([[[[0.0042, 0.0044, 0.0042,  ..., 0.0016, 0.0028, 0.0044],\n",
       "          [0.0027, 0.0035, 0.0051,  ..., 0.0020, 0.0021, 0.0026],\n",
       "          [0.0030, 0.0029, 0.0015,  ..., 0.0021, 0.0015, 0.0032],\n",
       "          ...,\n",
       "          [0.0025, 0.0023, 0.0053,  ..., 0.0032, 0.0029, 0.0038],\n",
       "          [0.0017, 0.0027, 0.0028,  ..., 0.0024, 0.0022, 0.0031],\n",
       "          [0.0026, 0.0032, 0.0034,  ..., 0.0021, 0.0020, 0.0027]]]],\n",
       "       grad_fn=<StdBackward0>)"
      ]
     },
     "execution_count": 161,
     "metadata": {},
     "output_type": "execute_result"
    }
   ],
   "source": [
    "trace_guide.nodes['mu_s']['value'].std(0)"
   ]
  },
  {
   "cell_type": "code",
   "execution_count": 125,
   "metadata": {},
   "outputs": [
    {
     "name": "stdout",
     "output_type": "stream",
     "text": [
      "0.041666666666666664\n",
      "0.034133333333333335\n"
     ]
    }
   ],
   "source": [
    "print(8/192)\n",
    "print(2048/60000)"
   ]
  },
  {
   "cell_type": "code",
   "execution_count": 121,
   "metadata": {},
   "outputs": [
    {
     "data": {
      "text/plain": [
       "tensor(0.0060, grad_fn=<PowBackward0>)"
      ]
     },
     "execution_count": 121,
     "metadata": {},
     "output_type": "execute_result"
    }
   ],
   "source": [
    "test=torch.tile(foo, [192, 1])\n",
    "((test ** -2).mean()) ** -0.5 "
   ]
  },
  {
   "cell_type": "code",
   "execution_count": 122,
   "metadata": {},
   "outputs": [
    {
     "data": {
      "text/plain": [
       "tensor(0.0060, grad_fn=<PowBackward0>)"
      ]
     },
     "execution_count": 122,
     "metadata": {},
     "output_type": "execute_result"
    }
   ],
   "source": [
    "((foo ** -2).mean()) ** -0.5"
   ]
  },
  {
   "cell_type": "code",
   "execution_count": 99,
   "metadata": {},
   "outputs": [
    {
     "data": {
      "text/plain": [
       "tensor([0.0038, 0.0046, 0.0044,  ..., 0.0027, 0.0021, 0.0028],\n",
       "       grad_fn=<ExpBackward0>)"
      ]
     },
     "execution_count": 99,
     "metadata": {},
     "output_type": "execute_result"
    }
   ],
   "source": [
    "trace_guide.nodes['epsilon']['fn'].transforms[1].loc.exp()"
   ]
  },
  {
   "cell_type": "code",
   "execution_count": 93,
   "metadata": {},
   "outputs": [
    {
     "data": {
      "text/plain": [
       "tensor([[[0.0336, 0.0836, 0.0260,  ..., 0.0299, 0.0256, 0.0404]]],\n",
       "       grad_fn=<MeanBackward1>)"
      ]
     },
     "execution_count": 93,
     "metadata": {},
     "output_type": "execute_result"
    }
   ],
   "source": [
    "trace_guide.nodes['mu_s']['fn'].transforms[1].loc.mean(0)"
   ]
  },
  {
   "cell_type": "code",
   "execution_count": 97,
   "metadata": {},
   "outputs": [
    {
     "data": {
      "text/plain": [
       "tensor([[[[0.0035, 0.0044, 0.0043,  ..., 0.0022, 0.0021, 0.0024]]],\n",
       "\n",
       "\n",
       "        [[[0.0035, 0.0044, 0.0043,  ..., 0.0022, 0.0021, 0.0024]]],\n",
       "\n",
       "\n",
       "        [[[0.0035, 0.0044, 0.0043,  ..., 0.0022, 0.0021, 0.0024]]],\n",
       "\n",
       "\n",
       "        ...,\n",
       "\n",
       "\n",
       "        [[[0.0035, 0.0044, 0.0043,  ..., 0.0022, 0.0021, 0.0024]]],\n",
       "\n",
       "\n",
       "        [[[0.0035, 0.0044, 0.0043,  ..., 0.0022, 0.0021, 0.0024]]],\n",
       "\n",
       "\n",
       "        [[[0.0045, 0.0056, 0.0055,  ..., 0.0028, 0.0028, 0.0031]]]],\n",
       "       grad_fn=<ExpBackward0>)"
      ]
     },
     "execution_count": 97,
     "metadata": {},
     "output_type": "execute_result"
    }
   ],
   "source": [
    "trace_guide.nodes['mu_s']['fn'].transforms[1].scale"
   ]
  },
  {
   "cell_type": "code",
   "execution_count": 146,
   "metadata": {},
   "outputs": [
    {
     "data": {
      "text/plain": [
       "tensor([[0.0041, 0.0049, 0.0043,  ..., 0.0019, 0.0031, 0.0049],\n",
       "        [0.0021, 0.0037, 0.0059,  ..., 0.0025, 0.0026, 0.0025],\n",
       "        [0.0033, 0.0040, 0.0018,  ..., 0.0043, 0.0022, 0.0027],\n",
       "        ...,\n",
       "        [0.0025, 0.0035, 0.0040,  ..., 0.0026, 0.0028, 0.0041],\n",
       "        [0.0023, 0.0042, 0.0033,  ..., 0.0032, 0.0036, 0.0035],\n",
       "        [0.0022, 0.0026, 0.0036,  ..., 0.0025, 0.0019, 0.0026]],\n",
       "       grad_fn=<AddBackward0>)"
      ]
     },
     "execution_count": 146,
     "metadata": {},
     "output_type": "execute_result"
    }
   ],
   "source": [
    "trace_guide.nodes['epsilon']['value']"
   ]
  },
  {
   "cell_type": "code",
   "execution_count": 65,
   "metadata": {},
   "outputs": [
    {
     "data": {
      "text/plain": [
       "tensor([0.0678], grad_fn=<AddBackward0>)"
      ]
     },
     "execution_count": 65,
     "metadata": {},
     "output_type": "execute_result"
    }
   ],
   "source": [
    "trace_guide.nodes['kappa']['value']"
   ]
  },
  {
   "cell_type": "code",
   "execution_count": 63,
   "metadata": {},
   "outputs": [
    {
     "data": {
      "text/plain": [
       "tensor([[0.0214, 0.0715, 0.0532,  ..., 0.0300, 0.0256, 0.0454]],\n",
       "       grad_fn=<MeanBackward1>)"
      ]
     },
     "execution_count": 63,
     "metadata": {},
     "output_type": "execute_result"
    }
   ],
   "source": [
    "trace_guide.nodes['mu_st']['fn'].transforms[1].loc[0].mean(0)"
   ]
  },
  {
   "cell_type": "code",
   "execution_count": 54,
   "metadata": {},
   "outputs": [
    {
     "data": {
      "text/plain": [
       "tensor([[0.0126, 0.0242, 0.0190,  ..., 0.0037, 0.0088, 0.0080]],\n",
       "       grad_fn=<StdBackward0>)"
      ]
     },
     "execution_count": 54,
     "metadata": {},
     "output_type": "execute_result"
    }
   ],
   "source": [
    "trace_guide.nodes['mu_st']['fn'].transforms[1].loc[0].std(0)"
   ]
  },
  {
   "cell_type": "code",
   "execution_count": 57,
   "metadata": {},
   "outputs": [
    {
     "data": {
      "text/plain": [
       "tensor([[[[0.0336, 0.0836, 0.0260,  ..., 0.0299, 0.0256, 0.0404]]],\n",
       "\n",
       "\n",
       "        [[[0.0337, 0.0834, 0.0259,  ..., 0.0300, 0.0256, 0.0404]]],\n",
       "\n",
       "\n",
       "        [[[0.0336, 0.0836, 0.0260,  ..., 0.0299, 0.0256, 0.0404]]],\n",
       "\n",
       "\n",
       "        ...,\n",
       "\n",
       "\n",
       "        [[[0.0336, 0.0836, 0.0260,  ..., 0.0299, 0.0256, 0.0404]]],\n",
       "\n",
       "\n",
       "        [[[0.0336, 0.0836, 0.0260,  ..., 0.0299, 0.0256, 0.0404]]],\n",
       "\n",
       "\n",
       "        [[[0.0336, 0.0836, 0.0260,  ..., 0.0299, 0.0256, 0.0404]]]],\n",
       "       grad_fn=<ReshapeAliasBackward0>)"
      ]
     },
     "execution_count": 57,
     "metadata": {},
     "output_type": "execute_result"
    }
   ],
   "source": [
    "trace_guide.nodes['mu_s']['fn'].transforms[1].loc"
   ]
  },
  {
   "cell_type": "code",
   "execution_count": 33,
   "metadata": {},
   "outputs": [
    {
     "data": {
      "text/plain": [
       "tensor([0.0025, 0.0021, 0.0013, 0.0023, 0.0015, 0.0019, 0.0025, 0.0026, 0.0027,\n",
       "        0.0027, 0.0031, 0.0014, 0.0017, 0.0030, 0.0014, 0.0025, 0.0014, 0.0016,\n",
       "        0.0019, 0.0015, 0.0026, 0.0019, 0.0018, 0.0033, 0.0017, 0.0029, 0.0012,\n",
       "        0.0011, 0.0031, 0.0029, 0.0026, 0.0029, 0.0029, 0.0021, 0.0027, 0.0021,\n",
       "        0.0023, 0.0015, 0.0014, 0.0025, 0.0015, 0.0030, 0.0014, 0.0035, 0.0017,\n",
       "        0.0022, 0.0014, 0.0011, 0.0012, 0.0018, 0.0024, 0.0027, 0.0019, 0.0013,\n",
       "        0.0026, 0.0026, 0.0023, 0.0027, 0.0015, 0.0014, 0.0025, 0.0014, 0.0030,\n",
       "        0.0020, 0.0013, 0.0022, 0.0018, 0.0013, 0.0019, 0.0014, 0.0012, 0.0014,\n",
       "        0.0019, 0.0013, 0.0014, 0.0020, 0.0015, 0.0016, 0.0025, 0.0030, 0.0025,\n",
       "        0.0013, 0.0013, 0.0013, 0.0014, 0.0014, 0.0011, 0.0015, 0.0012, 0.0028,\n",
       "        0.0015, 0.0022, 0.0020, 0.0015, 0.0018, 0.0036, 0.0009, 0.0011, 0.0013,\n",
       "        0.0012, 0.0027, 0.0012, 0.0013, 0.0023, 0.0016, 0.0031, 0.0023, 0.0018,\n",
       "        0.0013, 0.0024, 0.0014, 0.0012, 0.0012, 0.0015, 0.0015, 0.0015, 0.0032,\n",
       "        0.0022, 0.0015, 0.0015, 0.0024, 0.0034, 0.0023, 0.0010, 0.0014, 0.0030,\n",
       "        0.0016, 0.0037], grad_fn=<SelectBackward0>)"
      ]
     },
     "execution_count": 33,
     "metadata": {},
     "output_type": "execute_result"
    }
   ],
   "source": [
    "trace_guide.nodes['epsilon']['value'][8]"
   ]
  },
  {
   "cell_type": "code",
   "execution_count": 34,
   "metadata": {},
   "outputs": [
    {
     "data": {
      "text/plain": [
       "tensor([0.0188, 0.0137, 0.0081, 0.0141, 0.0077, 0.0103, 0.0239, 0.0161, 0.0210,\n",
       "        0.0215, 0.0239, 0.0082, 0.0092, 0.0143, 0.0070, 0.0162, 0.0087, 0.0076,\n",
       "        0.0093, 0.0075, 0.0218, 0.0119, 0.0101, 0.0226, 0.0100, 0.0230, 0.0061,\n",
       "        0.0071, 0.0224, 0.0182, 0.0166, 0.0181, 0.0198, 0.0155, 0.0209, 0.0153,\n",
       "        0.0135, 0.0070, 0.0057, 0.0153, 0.0070, 0.0198, 0.0079, 0.0194, 0.0100,\n",
       "        0.0174, 0.0076, 0.0065, 0.0051, 0.0108, 0.0191, 0.0236, 0.0139, 0.0079,\n",
       "        0.0244, 0.0246, 0.0119, 0.0186, 0.0068, 0.0059, 0.0230, 0.0073, 0.0218,\n",
       "        0.0129, 0.0054, 0.0113, 0.0102, 0.0061, 0.0115, 0.0066, 0.0044, 0.0083,\n",
       "        0.0094, 0.0059, 0.0084, 0.0120, 0.0070, 0.0096, 0.0203, 0.0185, 0.0195,\n",
       "        0.0089, 0.0059, 0.0081, 0.0081, 0.0062, 0.0040, 0.0087, 0.0051, 0.0215,\n",
       "        0.0098, 0.0178, 0.0123, 0.0079, 0.0132, 0.0243, 0.0043, 0.0046, 0.0079,\n",
       "        0.0051, 0.0211, 0.0062, 0.0093, 0.0126, 0.0104, 0.0185, 0.0199, 0.0086,\n",
       "        0.0056, 0.0175, 0.0070, 0.0057, 0.0061, 0.0064, 0.0084, 0.0068, 0.0243,\n",
       "        0.0148, 0.0106, 0.0089, 0.0199, 0.0246, 0.0179, 0.0039, 0.0064, 0.0240,\n",
       "        0.0060, 0.0178], grad_fn=<SelectBackward0>)"
      ]
     },
     "execution_count": 34,
     "metadata": {},
     "output_type": "execute_result"
    }
   ],
   "source": [
    "trace_guide.nodes['sigma']['value'][8]"
   ]
  },
  {
   "cell_type": "code",
   "execution_count": 10,
   "metadata": {},
   "outputs": [
    {
     "data": {
      "text/plain": [
       "tensor([0.0706], grad_fn=<AddBackward0>)"
      ]
     },
     "execution_count": 10,
     "metadata": {},
     "output_type": "execute_result"
    }
   ],
   "source": [
    "trace_guide.nodes['kappa']['value']"
   ]
  },
  {
   "cell_type": "code",
   "execution_count": 31,
   "metadata": {},
   "outputs": [
    {
     "data": {
      "text/plain": [
       "tensor([[[ 0.0768,  0.0120,  0.0021,  0.0362,  0.0183,  0.0525,  0.0876,\n",
       "           0.0368,  0.0916,  0.0874,  0.0554,  0.0124,  0.0101,  0.0616,\n",
       "           0.0222,  0.0186,  0.0110,  0.0195,  0.0190,  0.0172,  0.1009,\n",
       "           0.0363,  0.0329,  0.1016,  0.0147,  0.1150,  0.0252,  0.0100,\n",
       "           0.0658,  0.1119,  0.0471,  0.0399,  0.1255,  0.0230,  0.1238,\n",
       "           0.0134,  0.0210,  0.0185,  0.0175,  0.0432,  0.0125,  0.1220,\n",
       "           0.0163,  0.0988,  0.0198,  0.0184,  0.0182,  0.0077,  0.0117,\n",
       "           0.0038,  0.0228,  0.1120,  0.0127,  0.0278,  0.0547,  0.0281,\n",
       "           0.0523,  0.1132,  0.0171,  0.0221,  0.0738,  0.0264,  0.1066,\n",
       "           0.0190,  0.0113,  0.0014,  0.0103,  0.0338,  0.0589,  0.0230,\n",
       "           0.0231,  0.0156,  0.0101,  0.0117,  0.0109,  0.0123,  0.0039,\n",
       "           0.0045,  0.0920,  0.0910,  0.0369,  0.0350,  0.0083,  0.0137,\n",
       "           0.0138,  0.0126,  0.0252,  0.0149,  0.0103,  0.1133,  0.0199,\n",
       "           0.0402,  0.0170,  0.0312,  0.0540,  0.1049,  0.0176,  0.0177,\n",
       "           0.0232,  0.0292,  0.1023,  0.0128,  0.0136,  0.0307,  0.0129,\n",
       "           0.0689,  0.0341,  0.0207,  0.0209,  0.1341,  0.0170,  0.0051,\n",
       "           0.0159,  0.0097,  0.0402,  0.0275,  0.1096,  0.0499,  0.0179,\n",
       "           0.0150,  0.0924,  0.1009,  0.0576,  0.0190,  0.0092,  0.0677,\n",
       "           0.0243,  0.0866]],\n",
       "\n",
       "        [[ 0.0610,  0.0178,  0.0165,  0.0256,  0.0254,  0.0614,  0.0635,\n",
       "           0.0372,  0.0720,  0.1049,  0.0476,  0.0186,  0.0168,  0.0558,\n",
       "           0.0240,  0.0067,  0.0148,  0.0244,  0.0267,  0.0219,  0.0873,\n",
       "           0.0295,  0.0223,  0.0868,  0.0145,  0.1110,  0.0275,  0.0063,\n",
       "           0.0566,  0.1232,  0.0497,  0.0266,  0.1305,  0.0018,  0.1389,\n",
       "           0.0049,  0.0185,  0.0247,  0.0266,  0.0364,  0.0125,  0.1279,\n",
       "           0.0280,  0.0971,  0.0237,  0.0200,  0.0326,  0.0069,  0.0139,\n",
       "          -0.0007,  0.0293,  0.1089,  0.0068,  0.0225,  0.0520,  0.0097,\n",
       "           0.0570,  0.1245,  0.0239,  0.0221,  0.0741,  0.0273,  0.0794,\n",
       "           0.0290,  0.0142,  0.0063,  0.0264,  0.0283,  0.0718,  0.0227,\n",
       "           0.0250,  0.0302,  0.0017,  0.0180,  0.0209,  0.0032,  0.0104,\n",
       "           0.0191,  0.1016,  0.0898,  0.0285,  0.0373,  0.0092,  0.0205,\n",
       "           0.0171,  0.0132,  0.0257,  0.0371,  0.0045,  0.1172,  0.0223,\n",
       "           0.0245,  0.0173,  0.0315,  0.0523,  0.1039,  0.0195,  0.0235,\n",
       "           0.0251,  0.0362,  0.1026,  0.0185,  0.0320,  0.0129,  0.0237,\n",
       "           0.0565,  0.0541,  0.0330,  0.0273,  0.1268,  0.0206,  0.0065,\n",
       "           0.0168,  0.0125,  0.0384,  0.0484,  0.1189,  0.0432,  0.0220,\n",
       "           0.0221,  0.0672,  0.0596,  0.0464,  0.0236,  0.0114,  0.0574,\n",
       "           0.0238,  0.0500]],\n",
       "\n",
       "        [[ 0.0609,  0.0135,  0.0124,  0.0289,  0.0188,  0.0563,  0.0821,\n",
       "           0.0559,  0.0951,  0.1054,  0.0445,  0.0175,  0.0194,  0.0564,\n",
       "           0.0212,  0.0219,  0.0156,  0.0184,  0.0192,  0.0174,  0.0937,\n",
       "           0.0255,  0.0237,  0.1134,  0.0160,  0.1158,  0.0278,  0.0050,\n",
       "           0.0545,  0.1090,  0.0649,  0.0282,  0.1335,  0.0173,  0.1289,\n",
       "           0.0171,  0.0133,  0.0178,  0.0245,  0.0329,  0.0201,  0.1181,\n",
       "           0.0198,  0.0906,  0.0289,  0.0183,  0.0249,  0.0064,  0.0104,\n",
       "           0.0100,  0.0185,  0.1255,  0.0060,  0.0217,  0.0408,  0.0193,\n",
       "           0.0629,  0.1085,  0.0193,  0.0207,  0.0967,  0.0247,  0.1124,\n",
       "           0.0134,  0.0142,  0.0175,  0.0106,  0.0277,  0.0675,  0.0215,\n",
       "           0.0224,  0.0240,  0.0157,  0.0131,  0.0145,  0.0055,  0.0062,\n",
       "           0.0114,  0.0797,  0.0800,  0.0293,  0.0336,  0.0074,  0.0111,\n",
       "           0.0177,  0.0127,  0.0259,  0.0228,  0.0095,  0.1116,  0.0250,\n",
       "           0.0391,  0.0181,  0.0249,  0.0663,  0.1007,  0.0137,  0.0148,\n",
       "           0.0194,  0.0339,  0.1024,  0.0151,  0.0211,  0.0243,  0.0152,\n",
       "           0.0579,  0.0268,  0.0276,  0.0193,  0.1344,  0.0195,  0.0046,\n",
       "           0.0144,  0.0078,  0.0363,  0.0351,  0.1245,  0.0612,  0.0104,\n",
       "           0.0219,  0.0984,  0.0779,  0.0430,  0.0173,  0.0085,  0.0551,\n",
       "           0.0217,  0.0744]],\n",
       "\n",
       "        [[ 0.0758,  0.0156,  0.0209,  0.0382,  0.0298,  0.0434,  0.0730,\n",
       "           0.0289,  0.0560,  0.0724,  0.0604,  0.0192,  0.0191,  0.0451,\n",
       "           0.0326,  0.0137,  0.0129,  0.0327,  0.0237,  0.0305,  0.0779,\n",
       "           0.0443,  0.0259,  0.0738,  0.0152,  0.0902,  0.0235,  0.0239,\n",
       "           0.0454,  0.1033,  0.0438,  0.0519,  0.0987,  0.0280,  0.1053,\n",
       "           0.0232,  0.0249,  0.0262,  0.0260,  0.0501,  0.0172,  0.1104,\n",
       "           0.0288,  0.0827,  0.0167,  0.0367,  0.0288,  0.0155,  0.0130,\n",
       "           0.0068,  0.0424,  0.0791,  0.0294,  0.0251,  0.0626,  0.0340,\n",
       "           0.0510,  0.1064,  0.0258,  0.0290,  0.0527,  0.0387,  0.0686,\n",
       "           0.0313,  0.0191,  0.0107,  0.0261,  0.0269,  0.0484,  0.0310,\n",
       "           0.0211,  0.0250,  0.0189,  0.0230,  0.0205,  0.0260,  0.0200,\n",
       "           0.0193,  0.0973,  0.0931,  0.0398,  0.0275,  0.0155,  0.0303,\n",
       "           0.0156,  0.0170,  0.0206,  0.0363,  0.0095,  0.0976,  0.0187,\n",
       "           0.0301,  0.0210,  0.0337,  0.0384,  0.0860,  0.0221,  0.0211,\n",
       "           0.0258,  0.0279,  0.0873,  0.0144,  0.0311,  0.0384,  0.0238,\n",
       "           0.0661,  0.0494,  0.0358,  0.0279,  0.1107,  0.0184,  0.0128,\n",
       "           0.0180,  0.0148,  0.0345,  0.0399,  0.0823,  0.0348,  0.0297,\n",
       "           0.0245,  0.0545,  0.0745,  0.0705,  0.0191,  0.0170,  0.0674,\n",
       "           0.0303,  0.0562]]], grad_fn=<SelectBackward0>)"
      ]
     },
     "execution_count": 31,
     "metadata": {},
     "output_type": "execute_result"
    }
   ],
   "source": [
    "trace_guide.nodes['mu_st']['fn'].transforms[1].loc[0].reshape(4, 1, 17, 128)[:, :, 8]"
   ]
  },
  {
   "cell_type": "code",
   "execution_count": 12,
   "metadata": {},
   "outputs": [
    {
     "data": {
      "text/plain": [
       "tensor([[[0.3633, 0.3151, 0.3229,  ..., 0.3829, 0.3288, 0.3258]],\n",
       "\n",
       "        [[0.3671, 0.3344, 0.3035,  ..., 0.3722, 0.3237, 0.3331]],\n",
       "\n",
       "        [[0.3412, 0.3132, 0.2945,  ..., 0.3638, 0.3120, 0.3158]],\n",
       "\n",
       "        [[0.3439, 0.3215, 0.2857,  ..., 0.3645, 0.2985, 0.3204]]],\n",
       "       grad_fn=<SelectBackward0>)"
      ]
     },
     "execution_count": 12,
     "metadata": {},
     "output_type": "execute_result"
    }
   ],
   "source": [
    "trace_guide.nodes['mu_st']['fn'].transforms[1].scale[0]"
   ]
  },
  {
   "cell_type": "code",
   "execution_count": 29,
   "metadata": {},
   "outputs": [
    {
     "data": {
      "text/plain": [
       "torch.Size([16, 4, 1024, 128])"
      ]
     },
     "execution_count": 29,
     "metadata": {},
     "output_type": "execute_result"
    }
   ],
   "source": [
    "trace_model.nodes['X']['value'].shape"
   ]
  },
  {
   "cell_type": "code",
   "execution_count": 57,
   "metadata": {},
   "outputs": [
    {
     "data": {
      "text/plain": [
       "tensor([ 0.0309, -0.0196,  0.0309,  0.0331,  0.0145, -0.0269,  0.0414,  0.0561,\n",
       "         0.0208, -0.0285, -0.0383, -0.0217,  0.0024, -0.0320, -0.0116,  0.0290,\n",
       "        -0.0421, -0.0028, -0.0010,  0.0124, -0.0199,  0.0234, -0.0116, -0.0256,\n",
       "        -0.0060, -0.0006,  0.0355,  0.0197,  0.0205, -0.0069,  0.0512,  0.0256,\n",
       "         0.0170,  0.0205, -0.0109, -0.0082, -0.0290,  0.0200,  0.0469, -0.0088,\n",
       "         0.0273,  0.0294,  0.0061,  0.0389,  0.0331,  0.0435,  0.0204, -0.0182,\n",
       "         0.0143, -0.0112,  0.0378,  0.0121,  0.0094, -0.0223, -0.0040, -0.0180,\n",
       "         0.0266,  0.0389, -0.0180, -0.0147,  0.0270, -0.0162,  0.0012, -0.0198,\n",
       "         0.0289,  0.0351,  0.0421,  0.0434, -0.0164,  0.0085, -0.0320, -0.0337,\n",
       "         0.0468, -0.0157,  0.0338, -0.0172,  0.0319,  0.0310, -0.0335, -0.0004,\n",
       "         0.0281,  0.0123, -0.0211,  0.0368,  0.0378, -0.0262,  0.0098,  0.0380,\n",
       "         0.0449,  0.0085,  0.0031, -0.0422, -0.0079,  0.0065,  0.0005,  0.0011,\n",
       "         0.0581, -0.0288, -0.0056,  0.0220, -0.0250,  0.0033,  0.0112, -0.0054,\n",
       "         0.0058,  0.0012, -0.0185,  0.0295, -0.0190, -0.0294,  0.0183, -0.0444,\n",
       "        -0.0095, -0.0012,  0.0084,  0.0266, -0.0211,  0.0211, -0.0062,  0.0175,\n",
       "         0.0315,  0.0201, -0.0321, -0.0004, -0.0274, -0.0098,  0.0141,  0.0373],\n",
       "       grad_fn=<SliceBackward0>)"
      ]
     },
     "execution_count": 57,
     "metadata": {},
     "output_type": "execute_result"
    }
   ],
   "source": [
    "trace_guide.nodes['mu_st']['fn'].transforms[1].loc[0][1, 0, :128]"
   ]
  },
  {
   "cell_type": "code",
   "execution_count": 27,
   "metadata": {},
   "outputs": [
    {
     "data": {
      "text/plain": [
       "tensor([[[[ 0.0300, -0.0005,  0.0224,  ...,  0.0388,  0.0173,  0.0595],\n",
       "          [ 0.0025,  0.0195,  0.0591,  ...,  0.0125, -0.0136,  0.0192],\n",
       "          [ 0.0058,  0.0378,  0.0187,  ...,  0.0298,  0.0265,  0.0249],\n",
       "          ...,\n",
       "          [-0.0088,  0.0354,  0.0154,  ..., -0.0387, -0.0220,  0.0621],\n",
       "          [ 0.0117,  0.0385,  0.1362,  ...,  0.0239,  0.0206,  0.0437],\n",
       "          [ 0.0182, -0.0292, -0.0014,  ..., -0.0195, -0.0446, -0.0059]]]],\n",
       "       grad_fn=<SelectBackward0>)"
      ]
     },
     "execution_count": 27,
     "metadata": {},
     "output_type": "execute_result"
    }
   ],
   "source": [
    "trace_guide.nodes['mu_s']['value'][1]"
   ]
  },
  {
   "cell_type": "code",
   "execution_count": 12,
   "metadata": {},
   "outputs": [
    {
     "data": {
      "text/plain": [
       "tensor([0.0075, 0.0035, 0.0067,  ..., 0.0043, 0.0079, 0.0049],\n",
       "       grad_fn=<ReshapeAliasBackward0>)"
      ]
     },
     "execution_count": 12,
     "metadata": {},
     "output_type": "execute_result"
    }
   ],
   "source": [
    "trace_guide.nodes['epsilon']['value'].reshape(-1)"
   ]
  },
  {
   "cell_type": "code",
   "execution_count": 20,
   "metadata": {},
   "outputs": [
    {
     "data": {
      "text/plain": [
       "tensor([0.0094, 0.0035, 0.0049,  ..., 0.0044, 0.0046, 0.0049],\n",
       "       grad_fn=<ReshapeAliasBackward0>)"
      ]
     },
     "execution_count": 20,
     "metadata": {},
     "output_type": "execute_result"
    }
   ],
   "source": [
    "trace_guide.nodes['sigma']['value'].reshape(-1)"
   ]
  },
  {
   "cell_type": "code",
   "execution_count": 41,
   "metadata": {},
   "outputs": [
    {
     "data": {
      "text/plain": [
       "tensor([[[[[0.0664]]]],\n",
       "\n",
       "\n",
       "\n",
       "        [[[[0.0663]]]],\n",
       "\n",
       "\n",
       "\n",
       "        [[[[0.0661]]]],\n",
       "\n",
       "\n",
       "\n",
       "        [[[[0.0662]]]],\n",
       "\n",
       "\n",
       "\n",
       "        [[[[0.0661]]]],\n",
       "\n",
       "\n",
       "\n",
       "        [[[[0.0662]]]],\n",
       "\n",
       "\n",
       "\n",
       "        [[[[0.0663]]]],\n",
       "\n",
       "\n",
       "\n",
       "        [[[[0.0663]]]]], grad_fn=<AddBackward0>)"
      ]
     },
     "execution_count": 41,
     "metadata": {},
     "output_type": "execute_result"
    }
   ],
   "source": [
    "trace_guide.nodes['kappa']['value']"
   ]
  },
  {
   "cell_type": "code",
   "execution_count": 26,
   "metadata": {},
   "outputs": [
    {
     "data": {
      "text/plain": [
       "tensor([[[0.1013, 0.0138, 0.0108,  ..., 0.0073, 0.0239, 0.0289]],\n",
       "\n",
       "        [[0.1001, 0.0139, 0.0102,  ..., 0.0069, 0.0270, 0.0277]]],\n",
       "       grad_fn=<SelectBackward0>)"
      ]
     },
     "execution_count": 26,
     "metadata": {},
     "output_type": "execute_result"
    }
   ],
   "source": [
    "trace_guide.nodes['mu_st']['fn'].transforms[1].loc[0]"
   ]
  },
  {
   "cell_type": "code",
   "execution_count": 28,
   "metadata": {},
   "outputs": [
    {
     "data": {
      "text/plain": [
       "tensor([[[0.1001, 0.0139, 0.0102,  ..., 0.0069, 0.0270, 0.0277]],\n",
       "\n",
       "        [[0.1001, 0.0139, 0.0102,  ..., 0.0069, 0.0270, 0.0277]]],\n",
       "       grad_fn=<SelectBackward0>)"
      ]
     },
     "execution_count": 28,
     "metadata": {},
     "output_type": "execute_result"
    }
   ],
   "source": [
    "trace_guide.nodes['mu_st']['fn'].transforms[1].loc[5]"
   ]
  },
  {
   "cell_type": "code",
   "execution_count": 24,
   "metadata": {},
   "outputs": [
    {
     "data": {
      "text/plain": [
       "tensor([0.0003, 0.0007, 0.0007,  ..., 0.0008, 0.0007, 0.0007],\n",
       "       grad_fn=<SelectBackward0>)"
      ]
     },
     "execution_count": 24,
     "metadata": {},
     "output_type": "execute_result"
    }
   ],
   "source": [
    "trace_guide.nodes['mu_st']['fn'].transforms[1].scale[0,0,0]"
   ]
  },
  {
   "cell_type": "code",
   "execution_count": 29,
   "metadata": {},
   "outputs": [
    {
     "data": {
      "text/plain": [
       "tensor([0.0664, 0.0168, 0.0417,  ..., 0.0068, 0.0178, 0.0102],\n",
       "       grad_fn=<SelectBackward0>)"
      ]
     },
     "execution_count": 29,
     "metadata": {},
     "output_type": "execute_result"
    }
   ],
   "source": [
    "trace_guide.nodes['mu_st']['fn'].transforms[1].loc[1,1,0]"
   ]
  },
  {
   "cell_type": "code",
   "execution_count": 17,
   "metadata": {},
   "outputs": [
    {
     "data": {
      "text/plain": [
       "tensor([0.0223, 0.0117, 0.0074,  ..., 0.0078, 0.0090, 0.0067],\n",
       "       grad_fn=<ReshapeAliasBackward0>)"
      ]
     },
     "execution_count": 17,
     "metadata": {},
     "output_type": "execute_result"
    }
   ],
   "source": [
    "trace_guide.nodes['sigma']['value'].reshape(-1)"
   ]
  },
  {
   "cell_type": "code",
   "execution_count": 25,
   "metadata": {},
   "outputs": [
    {
     "data": {
      "text/plain": [
       "tensor([0.0093, 0.0035, 0.0049,  ..., 0.0044, 0.0046, 0.0048],\n",
       "       grad_fn=<ReshapeAliasBackward0>)"
      ]
     },
     "execution_count": 25,
     "metadata": {},
     "output_type": "execute_result"
    }
   ],
   "source": [
    "trace_guide.nodes['sigma']['value'].reshape(-1)"
   ]
  },
  {
   "cell_type": "code",
   "execution_count": 30,
   "metadata": {},
   "outputs": [
    {
     "data": {
      "text/plain": [
       "tensor([0.0661], grad_fn=<AddBackward0>)"
      ]
     },
     "execution_count": 30,
     "metadata": {},
     "output_type": "execute_result"
    }
   ],
   "source": [
    "trace_guide.nodes['kappa']['value']"
   ]
  },
  {
   "cell_type": "code",
   "execution_count": 96,
   "metadata": {},
   "outputs": [],
   "source": [
    "import seaborn as sns"
   ]
  },
  {
   "cell_type": "code",
   "execution_count": 98,
   "metadata": {
    "tags": []
   },
   "outputs": [],
   "source": [
    "subject = 0\n",
    "voxel = 0\n",
    "session = 0\n",
    "network = 14\n",
    "\n",
    "post_theta_s = np.random.normal(\n",
    "    loc=trace_guide.nodes['theta_s']['fn'].transforms[0].loc[subject, voxel, session, network].detach(),\n",
    "    scale=trace_guide.nodes['theta_s']['fn'].transforms[0].scale[subject, voxel, session, network].detach(),\n",
    "    size=1000\n",
    ")\n",
    "\n",
    "post_theta = np.random.normal(\n",
    "    loc=trace_guide.nodes['theta']['fn'].transforms[0].loc[voxel, network].detach(),\n",
    "    scale=trace_guide.nodes['theta']['fn'].transforms[0].scale[voxel, network].detach(),\n",
    "    size=1000\n",
    ")"
   ]
  },
  {
   "cell_type": "code",
   "execution_count": 99,
   "metadata": {},
   "outputs": [
    {
     "data": {
      "text/plain": [
       "<matplotlib.legend.Legend at 0x7f7884162fb0>"
      ]
     },
     "execution_count": 99,
     "metadata": {},
     "output_type": "execute_result"
    },
    {
     "data": {
      "image/png": "[encoded data removed]",
      "text/plain": [
       "<Figure size 640x480 with 1 Axes>"
      ]
     },
     "metadata": {},
     "output_type": "display_data"
    }
   ],
   "source": [
    "ax = sns.kdeplot(post_theta_s, label='posterior $\\\\theta^{sn}$')\n",
    "sns.kdeplot(post_theta, ax=ax, label='posterior $\\\\theta^n$')\n",
    "ax.legend()"
   ]
  },
  {
   "cell_type": "code",
   "execution_count": 14,
   "metadata": {},
   "outputs": [
    {
     "name": "stderr",
     "output_type": "stream",
     "text": [
      "/home/mind/alebris/storage/miniconda/envs/pavi_project/lib/python3.10/site-packages/torch/utils/data/dataloader.py:560: UserWarning: This DataLoader will create 32 worker processes in total. Our suggested max number of worker in current system is 4, which is smaller than what this DataLoader is going to create. Please be aware that excessive worker creation might get DataLoader running slow or even freeze, lower the worker number to avoid potential slowness/freeze if necessary.\n",
      "  warnings.warn(_create_warning_msg(\n"
     ]
    }
   ],
   "source": [
    "path_run = Path('runs') / 'inference_30_S384_GS_SharedGamma'\n",
    "\n",
    "inference_module = import_module(\n",
    "    subjects_list=subjects_list,\n",
    "    num_iter=42,\n",
    "    load_state=path_run / 'checkpoints' / '2_state.pt',\n",
    "    return_inference_module=True,\n",
    "    device=DEVICE\n",
    ")"
   ]
  },
  {
   "cell_type": "code",
   "execution_count": 15,
   "metadata": {
    "tags": []
   },
   "outputs": [
    {
     "name": "stderr",
     "output_type": "stream",
     "text": [
      "/home/mind/alebris/storage/miniconda/envs/pavi_project/lib/python3.10/site-packages/pyro/util.py:303: UserWarning: Found vars in model but not guide: {'l_s'}\n",
      "  warnings.warn(f\"Found vars in model but not guide: {bad_sites}\")\n"
     ]
    }
   ],
   "source": [
    "trace_model, trace_guide = inference_module.elbo._get_trace(\n",
    "    inference_module.model,\n",
    "    inference_module.guide,\n",
    "    args=(),\n",
    "    kwargs={\n",
    "        'data': data,\n",
    "        'idx': idx\n",
    "    }\n",
    ")"
   ]
  },
  {
   "cell_type": "code",
   "execution_count": 16,
   "metadata": {
    "tags": []
   },
   "outputs": [
    {
     "data": {
      "text/plain": [
       "<matplotlib.legend.Legend at 0x7f9e48b739d0>"
      ]
     },
     "execution_count": 16,
     "metadata": {},
     "output_type": "execute_result"
    },
    {
     "data": {
      "image/png": "[encoded data removed]",
      "text/plain": [
       "<Figure size 640x480 with 1 Axes>"
      ]
     },
     "metadata": {},
     "output_type": "display_data"
    }
   ],
   "source": [
    "post_theta_s = np.random.normal(\n",
    "    loc=trace_guide.nodes['theta_s']['fn'].transforms[0].loc[subject, voxel, network].detach(),\n",
    "    scale=trace_guide.nodes['theta_s']['fn'].transforms[0].scale[subject, voxel, network].detach(),\n",
    "    size=10000\n",
    ")\n",
    "\n",
    "post_theta = np.random.normal(\n",
    "    loc=trace_guide.nodes['theta']['fn'].transforms[0].loc[voxel, network].detach(),\n",
    "    scale=trace_guide.nodes['theta']['fn'].transforms[0].scale[voxel, network].detach(),\n",
    "    size=10000\n",
    ")\n",
    "\n",
    "ax = sns.kdeplot(post_theta_s, label='posterior $\\\\theta^{sn}$')\n",
    "sns.kdeplot(post_theta, ax=ax, label='posterior $\\\\theta^n$')\n",
    "ax.legend()"
   ]
  },
  {
   "cell_type": "code",
   "execution_count": 17,
   "metadata": {},
   "outputs": [
    {
     "name": "stderr",
     "output_type": "stream",
     "text": [
      "/home/mind/alebris/storage/miniconda/envs/pavi_project/lib/python3.10/site-packages/torch/utils/data/dataloader.py:560: UserWarning: This DataLoader will create 32 worker processes in total. Our suggested max number of worker in current system is 4, which is smaller than what this DataLoader is going to create. Please be aware that excessive worker creation might get DataLoader running slow or even freeze, lower the worker number to avoid potential slowness/freeze if necessary.\n",
      "  warnings.warn(_create_warning_msg(\n"
     ]
    }
   ],
   "source": [
    "path_run = Path('runs') / 'inference_30_S384_GS_SharedGamma_relax'\n",
    "\n",
    "inference_module = import_module(\n",
    "    subjects_list=subjects_list,\n",
    "    num_iter=42,\n",
    "    load_state=path_run / 'checkpoints' / '2_state.pt',\n",
    "    return_inference_module=True,\n",
    "    device=DEVICE\n",
    ")"
   ]
  },
  {
   "cell_type": "code",
   "execution_count": 18,
   "metadata": {},
   "outputs": [
    {
     "name": "stderr",
     "output_type": "stream",
     "text": [
      "/home/mind/alebris/storage/miniconda/envs/pavi_project/lib/python3.10/site-packages/pyro/util.py:303: UserWarning: Found vars in model but not guide: {'l_s'}\n",
      "  warnings.warn(f\"Found vars in model but not guide: {bad_sites}\")\n"
     ]
    }
   ],
   "source": [
    "trace_model, trace_guide = inference_module.elbo._get_trace(\n",
    "    inference_module.model,\n",
    "    inference_module.guide,\n",
    "    args=(),\n",
    "    kwargs={\n",
    "        'data': data,\n",
    "        'idx': idx\n",
    "    }\n",
    ")"
   ]
  },
  {
   "cell_type": "code",
   "execution_count": 13,
   "metadata": {},
   "outputs": [
    {
     "data": {
      "text/plain": [
       "<matplotlib.legend.Legend at 0x7f9e48004790>"
      ]
     },
     "execution_count": 13,
     "metadata": {},
     "output_type": "execute_result"
    },
    {
     "data": {
      "image/png": "[encoded data removed]",
      "text/plain": [
       "<Figure size 640x480 with 1 Axes>"
      ]
     },
     "metadata": {},
     "output_type": "display_data"
    }
   ],
   "source": [
    "post_theta_s = np.random.normal(\n",
    "    loc=trace_guide.nodes['theta_s']['fn'].transforms[0].loc[subject, voxel, network].detach(),\n",
    "    scale=trace_guide.nodes['theta_s']['fn'].transforms[0].scale[subject, voxel, network].detach(),\n",
    "    size=10000\n",
    ")\n",
    "\n",
    "post_theta = np.random.normal(\n",
    "    loc=trace_guide.nodes['theta']['fn'].transforms[0].loc[voxel, network].detach(),\n",
    "    scale=trace_guide.nodes['theta']['fn'].transforms[0].scale[voxel, network].detach(),\n",
    "    size=10000\n",
    ")\n",
    "\n",
    "ax = sns.kdeplot(post_theta_s, label='posterior $\\\\theta^{sn}$')\n",
    "sns.kdeplot(post_theta, ax=ax, label='posterior $\\\\theta^n$')\n",
    "ax.legend()"
   ]
  },
  {
   "cell_type": "code",
   "execution_count": 28,
   "metadata": {
    "tags": []
   },
   "outputs": [
    {
     "data": {
      "text/plain": [
       "tensor([[0.3070, 0.2596, 0.2340,  ..., 0.1317, 0.3196, 0.3297],\n",
       "        [0.2543, 0.2692, 0.2103,  ..., 0.4640, 0.6150, 0.2147],\n",
       "        [0.3925, 0.1500, 0.1453,  ..., 0.2903, 0.6977, 0.2575],\n",
       "        ...,\n",
       "        [0.2682, 0.2757, 0.2622,  ..., 0.5500, 0.6828, 0.1890],\n",
       "        [0.5515, 0.3819, 0.1428,  ..., 0.5594, 0.6521, 0.1854],\n",
       "        [0.1069, 0.4742, 0.3740,  ..., 0.4137, 0.1458, 0.4101]],\n",
       "       grad_fn=<MeanBackward1>)"
      ]
     },
     "execution_count": 28,
     "metadata": {},
     "output_type": "execute_result"
    }
   ],
   "source": [
    "trace_guide.nodes['theta_s']['fn'].transforms[0].scale.mean(0)"
   ]
  },
  {
   "cell_type": "code",
   "execution_count": 21,
   "metadata": {
    "tags": []
   },
   "outputs": [
    {
     "data": {
      "text/plain": [
       "tensor([0.6277, 0.5767, 0.5980, 0.5595, 0.4984, 0.5730, 0.6734, 0.5854, 0.5321,\n",
       "        0.6591, 0.6064, 0.5404, 0.4394, 0.5142, 0.6357, 0.8523, 0.5206],\n",
       "       grad_fn=<AddBackward0>)"
      ]
     },
     "execution_count": 21,
     "metadata": {},
     "output_type": "execute_result"
    }
   ],
   "source": [
    "trace_guide.nodes['gamma']['value']"
   ]
  },
  {
   "cell_type": "code",
   "execution_count": 25,
   "metadata": {},
   "outputs": [
    {
     "data": {
      "text/plain": [
       "tensor([[0.6502, 0.5557, 0.5329,  ..., 0.6500, 0.8485, 0.5101],\n",
       "        [0.6502, 0.5557, 0.5329,  ..., 0.6500, 0.8485, 0.5101],\n",
       "        [0.6502, 0.5557, 0.5329,  ..., 0.6500, 0.8485, 0.5101],\n",
       "        ...,\n",
       "        [0.6502, 0.5557, 0.5329,  ..., 0.6500, 0.8485, 0.5101],\n",
       "        [0.6502, 0.5557, 0.5329,  ..., 0.6500, 0.8485, 0.5101],\n",
       "        [0.6502, 0.5557, 0.5329,  ..., 0.6500, 0.8485, 0.5101]],\n",
       "       grad_fn=<ExpBackward0>)"
      ]
     },
     "execution_count": 25,
     "metadata": {},
     "output_type": "execute_result"
    }
   ],
   "source": [
    "trace_guide.nodes['theta']['fn'].transforms[0].scale"
   ]
  },
  {
   "cell_type": "code",
   "execution_count": 96,
   "metadata": {
    "tags": []
   },
   "outputs": [
    {
     "data": {
      "text/plain": [
       "tensor([[[0.0013, 0.0014, 0.0010,  ..., 0.0010, 0.0010, 0.0010]],\n",
       "\n",
       "        [[0.0013, 0.0012, 0.0011,  ..., 0.0011, 0.0010, 0.0009]],\n",
       "\n",
       "        [[0.0017, 0.0019, 0.0013,  ..., 0.0016, 0.0014, 0.0012]],\n",
       "\n",
       "        ...,\n",
       "\n",
       "        [[0.0014, 0.0014, 0.0012,  ..., 0.0016, 0.0014, 0.0012]],\n",
       "\n",
       "        [[0.0014, 0.0014, 0.0012,  ..., 0.0016, 0.0016, 0.0014]],\n",
       "\n",
       "        [[0.0010, 0.0009, 0.0008,  ..., 0.0015, 0.0014, 0.0012]]],\n",
       "       grad_fn=<ExpBackward0>)"
      ]
     },
     "execution_count": 96,
     "metadata": {},
     "output_type": "execute_result"
    }
   ],
   "source": [
    "trace_guide.nodes['mu_s']['fn'].transforms[1].scale"
   ]
  },
  {
   "cell_type": "code",
   "execution_count": 103,
   "metadata": {
    "tags": []
   },
   "outputs": [
    {
     "ename": "KeyError",
     "evalue": "'theta'",
     "output_type": "error",
     "traceback": [
      "\u001b[0;31m---------------------------------------------------------------------------\u001b[0m",
      "\u001b[0;31mKeyError\u001b[0m                                  Traceback (most recent call last)",
      "Cell \u001b[0;32mIn[103], line 1\u001b[0m\n\u001b[0;32m----> 1\u001b[0m \u001b[43mtrace_model\u001b[49m\u001b[38;5;241;43m.\u001b[39;49m\u001b[43mnodes\u001b[49m\u001b[43m[\u001b[49m\u001b[38;5;124;43m'\u001b[39;49m\u001b[38;5;124;43mtheta\u001b[39;49m\u001b[38;5;124;43m'\u001b[39;49m\u001b[43m]\u001b[49m[\u001b[38;5;124m'\u001b[39m\u001b[38;5;124mvalue\u001b[39m\u001b[38;5;124m'\u001b[39m][\u001b[38;5;241m0\u001b[39m]\n",
      "\u001b[0;31mKeyError\u001b[0m: 'theta'"
     ]
    }
   ],
   "source": [
    "trace_model.nodes['theta']['value'][0]"
   ]
  },
  {
   "cell_type": "code",
   "execution_count": 104,
   "metadata": {
    "tags": []
   },
   "outputs": [
    {
     "ename": "KeyError",
     "evalue": "'gamma'",
     "output_type": "error",
     "traceback": [
      "\u001b[0;31m---------------------------------------------------------------------------\u001b[0m",
      "\u001b[0;31mKeyError\u001b[0m                                  Traceback (most recent call last)",
      "Cell \u001b[0;32mIn[104], line 1\u001b[0m\n\u001b[0;32m----> 1\u001b[0m \u001b[43mtrace_model\u001b[49m\u001b[38;5;241;43m.\u001b[39;49m\u001b[43mnodes\u001b[49m\u001b[43m[\u001b[49m\u001b[38;5;124;43m'\u001b[39;49m\u001b[38;5;124;43mgamma\u001b[39;49m\u001b[38;5;124;43m'\u001b[39;49m\u001b[43m]\u001b[49m[\u001b[38;5;124m'\u001b[39m\u001b[38;5;124mvalue\u001b[39m\u001b[38;5;124m'\u001b[39m][\u001b[38;5;241m0\u001b[39m]\n",
      "\u001b[0;31mKeyError\u001b[0m: 'gamma'"
     ]
    }
   ],
   "source": [
    "trace_model.nodes['gamma']['value'][0]"
   ]
  },
  {
   "cell_type": "code",
   "execution_count": 91,
   "metadata": {
    "tags": []
   },
   "outputs": [
    {
     "data": {
      "text/plain": [
       "tensor([[ 1.4533, -0.7001, -0.0599,  ..., -0.3124, -0.6714,  0.0904],\n",
       "        [ 0.2143,  1.1045,  2.0397,  ..., -1.4964, -1.7754,  0.5017],\n",
       "        [-0.4605, -0.1503,  0.2030,  ...,  2.9121, -0.3714,  0.0232],\n",
       "        ...,\n",
       "        [ 2.1442,  0.1065, -0.3728,  ..., -0.7521, -1.3006, -0.1796],\n",
       "        [-0.0230, -0.0609,  0.9566,  ..., -1.9358, -1.3882,  2.2825],\n",
       "        [-0.4272, -0.2003, -0.9568,  ...,  1.0714,  1.9483, -0.6923]],\n",
       "       grad_fn=<MeanBackward1>)"
      ]
     },
     "execution_count": 91,
     "metadata": {},
     "output_type": "execute_result"
    }
   ],
   "source": [
    "trace_guide.nodes['theta_s']['value'].mean(0)"
   ]
  },
  {
   "cell_type": "code",
   "execution_count": 92,
   "metadata": {
    "tags": []
   },
   "outputs": [
    {
     "data": {
      "text/plain": [
       "tensor([[ 1.2917, -0.7709, -0.0744,  ..., -0.4575, -0.5600,  0.0690],\n",
       "        [ 0.2144,  1.1754,  2.0014,  ..., -1.6093, -1.5995,  0.4186],\n",
       "        [-0.3972, -0.2288,  0.2061,  ...,  2.8943, -0.3888,  0.0570],\n",
       "        ...,\n",
       "        [ 2.0644,  0.1279, -0.4117,  ..., -0.9643, -1.1802, -0.2563],\n",
       "        [-0.1546, -0.2072,  0.9763,  ..., -1.7426, -1.5367,  2.1299],\n",
       "        [-0.3219, -0.3180, -0.8481,  ...,  0.7847,  1.8419, -0.5947]],\n",
       "       grad_fn=<AddBackward0>)"
      ]
     },
     "execution_count": 92,
     "metadata": {},
     "output_type": "execute_result"
    }
   ],
   "source": [
    "trace_guide.nodes['theta']['value']"
   ]
  },
  {
   "cell_type": "code",
   "execution_count": 93,
   "metadata": {
    "tags": []
   },
   "outputs": [
    {
     "data": {
      "text/plain": [
       "tensor([[0.5783, 0.6634, 0.6526,  ..., 0.6861, 0.7281, 0.6386],\n",
       "        [0.6340, 0.6234, 0.4413,  ..., 1.0369, 0.8157, 0.5937],\n",
       "        [0.6387, 0.6582, 0.6463,  ..., 0.4611, 0.6160, 0.6452],\n",
       "        ...,\n",
       "        [0.4722, 0.6418, 0.6723,  ..., 0.8431, 0.7735, 0.6838],\n",
       "        [0.5433, 0.9789, 0.5661,  ..., 0.9382, 0.9009, 0.5131],\n",
       "        [0.6804, 0.8150, 0.7866,  ..., 0.6577, 0.7111, 0.8336]],\n",
       "       grad_fn=<StdBackward0>)"
      ]
     },
     "execution_count": 93,
     "metadata": {},
     "output_type": "execute_result"
    }
   ],
   "source": [
    "trace_guide.nodes['theta_s']['value'].std(0)"
   ]
  },
  {
   "cell_type": "code",
   "execution_count": 105,
   "metadata": {
    "tags": []
   },
   "outputs": [
    {
     "data": {
      "text/plain": [
       "tensor([[2.9539, 2.9973, 2.4630,  ..., 2.6668, 3.0336, 3.0709],\n",
       "        [2.2675, 2.7956, 2.7740,  ..., 2.5225, 2.4262, 2.5541],\n",
       "        [3.0626, 2.7657, 2.9141,  ..., 2.6127, 2.7999, 2.5401],\n",
       "        ...,\n",
       "        [2.6462, 2.4280, 2.7880,  ..., 2.7305, 2.4913, 2.6881],\n",
       "        [2.4166, 2.4505, 2.5343,  ..., 2.7244, 2.5016, 2.5913],\n",
       "        [2.4775, 2.4770, 2.8908,  ..., 2.6141, 2.8081, 2.7877]],\n",
       "       grad_fn=<StdBackward0>)"
      ]
     },
     "execution_count": 105,
     "metadata": {},
     "output_type": "execute_result"
    }
   ],
   "source": [
    "trace_guide.nodes['theta_s']['value'].std(0)"
   ]
  },
  {
   "cell_type": "code",
   "execution_count": 94,
   "metadata": {
    "tags": []
   },
   "outputs": [
    {
     "data": {
      "text/plain": [
       "tensor([[0.5743, 0.7708, 0.6248,  ..., 0.7078, 0.7426, 0.5985],\n",
       "        [0.6264, 0.6166, 0.4834,  ..., 0.9422, 0.8808, 0.6136],\n",
       "        [0.6692, 0.7004, 0.6313,  ..., 0.4368, 0.7121, 0.5991],\n",
       "        ...,\n",
       "        [0.5202, 0.7406, 0.6548,  ..., 0.7800, 0.7949, 0.6160],\n",
       "        [0.6960, 0.9102, 0.5131,  ..., 0.9530, 0.9980, 0.5517],\n",
       "        [0.7432, 0.6925, 0.8733,  ..., 0.6476, 0.6049, 0.7637]],\n",
       "       grad_fn=<AddBackward0>)"
      ]
     },
     "execution_count": 94,
     "metadata": {},
     "output_type": "execute_result"
    }
   ],
   "source": [
    "trace_guide.nodes['gamma']['value']"
   ]
  },
  {
   "cell_type": "code",
   "execution_count": 107,
   "metadata": {
    "tags": []
   },
   "outputs": [
    {
     "data": {
      "text/plain": [
       "tensor([2.7006, 2.7113, 2.7185, 2.7374, 2.7458, 2.7382, 2.6892, 2.1252, 2.6972,\n",
       "        2.7154, 2.7444, 2.7084, 2.7116, 2.7011, 2.7109, 2.7014, 2.6902],\n",
       "       grad_fn=<DiagonalBackward0_copy>)"
      ]
     },
     "execution_count": 107,
     "metadata": {},
     "output_type": "execute_result"
    }
   ],
   "source": [
    "torch.diag(trace_guide.nodes['theta_s']['fn'].transforms[0].scale_tril[0,0])"
   ]
  },
  {
   "cell_type": "code",
   "execution_count": 56,
   "metadata": {
    "tags": []
   },
   "outputs": [
    {
     "data": {
      "text/plain": [
       "tensor([0.5466, 0.7369, 0.6257, 0.7317, 0.7673, 0.7875, 0.6448, 0.5247, 0.7873,\n",
       "        0.7763, 0.7656, 0.4530, 0.5280, 0.7946, 0.7083, 0.7371, 0.6063],\n",
       "       grad_fn=<DiagonalBackward0_copy>)"
      ]
     },
     "execution_count": 56,
     "metadata": {},
     "output_type": "execute_result"
    }
   ],
   "source": [
    "torch.diag(trace_guide.nodes['theta_s']['fn'].transforms[0].scale_tril[0,0])"
   ]
  },
  {
   "cell_type": "code",
   "execution_count": 73,
   "metadata": {
    "tags": []
   },
   "outputs": [
    {
     "data": {
      "text/plain": [
       "torch.Size([64, 128, 17, 17])"
      ]
     },
     "execution_count": 73,
     "metadata": {},
     "output_type": "execute_result"
    }
   ],
   "source": [
    "trace_guide.nodes['theta_s']['fn'].transforms[0].scale_tril.shape"
   ]
  },
  {
   "cell_type": "code",
   "execution_count": 76,
   "metadata": {
    "tags": []
   },
   "outputs": [
    {
     "data": {
      "text/plain": [
       "tensor([[-0.8209,  1.0289, -0.3345,  ..., -2.0542,  0.0837, -0.2915],\n",
       "        [-0.8267,  1.0353, -0.3334,  ..., -2.0621,  0.0946, -0.2883],\n",
       "        [-0.8494,  1.0071, -0.3470,  ..., -2.0430,  0.0972, -0.2931],\n",
       "        ...,\n",
       "        [-0.8366,  1.0571, -0.3354,  ..., -2.0687,  0.0919, -0.3017],\n",
       "        [-0.8419,  1.0513, -0.3473,  ..., -2.0471,  0.0870, -0.2966],\n",
       "        [-0.8144,  1.0371, -0.3384,  ..., -2.0319,  0.0715, -0.2863]],\n",
       "       grad_fn=<SelectBackward0>)"
      ]
     },
     "execution_count": 76,
     "metadata": {},
     "output_type": "execute_result"
    }
   ],
   "source": [
    "trace_guide.nodes['theta_s']['fn'].transforms[0].loc[:, 100]"
   ]
  },
  {
   "cell_type": "code",
   "execution_count": 53,
   "metadata": {
    "tags": []
   },
   "outputs": [
    {
     "data": {
      "text/plain": [
       "tensor(318.6573, grad_fn=<MeanBackward0>)"
      ]
     },
     "execution_count": 53,
     "metadata": {},
     "output_type": "execute_result"
    }
   ],
   "source": [
    "(trace_guide.nodes['theta_s']['log_prob'] - trace_model.nodes['theta_s']['log_prob']).mean()"
   ]
  },
  {
   "cell_type": "markdown",
   "metadata": {},
   "source": [
    "# Test model"
   ]
  },
  {
   "cell_type": "code",
   "execution_count": 14,
   "metadata": {
    "tags": []
   },
   "outputs": [],
   "source": [
    "from model import ModelGS as Model\n",
    "import pyro\n",
    "import pyro.poutine as poutine\n",
    "from pyro.infer import TraceEnum_ELBO, config_enumerate"
   ]
  },
  {
   "cell_type": "code",
   "execution_count": 16,
   "metadata": {
    "tags": []
   },
   "outputs": [
    {
     "name": "stdout",
     "output_type": "stream",
     "text": [
      "Model - without enumerate Trace Shapes:                      \n",
      " Param Sites:                      \n",
      "Sample Sites:                      \n",
      " plate_S dist             |        \n",
      "        value          16 |        \n",
      "     log_prob             |        \n",
      " plate_N dist             |        \n",
      "        value        2048 |        \n",
      "     log_prob             |        \n",
      "    mu_g dist 8 1  1    1 |  17 128\n",
      "        value 8 1  1    1 |  17 128\n",
      "     log_prob 8 1  1    1 |        \n",
      " epsilon dist 8 1  1    1 |  17 128\n",
      "        value 8 1  1    1 |  17 128\n",
      "     log_prob 8 1  1    1 |        \n",
      "    mu_s dist 8 1 16    1 |  17 128\n",
      "        value 8 1 16    1 |  17 128\n",
      "     log_prob 8 1 16    1 |        \n",
      "   gamma dist 8 1  1    1 |  17    \n",
      "        value 8 1  1    1 |  17    \n",
      "     log_prob 8 1  1    1 |        \n",
      "   kappa dist 8 1  1    1 |   1    \n",
      "        value 8 1  1    1 |   1    \n",
      "     log_prob 8 1  1    1 |        \n",
      "   theta dist 8 1  1 2048 |  17    \n",
      "        value 8 1  1 2048 |  17    \n",
      "     log_prob 8 1  1 2048 |        \n",
      " theta_s dist 8 1 16 2048 |  17    \n",
      "        value 8 1 16 2048 |  17    \n",
      "     log_prob 8 1 16 2048 |        \n",
      "     l_s dist 8 1 16 2048 |        \n",
      "        value 8 1 16 2048 |        \n",
      "     log_prob 8 1 16 2048 |        \n",
      "       X dist 8 1 16 2048 | 128    \n",
      "        value 8 1 16 2048 | 128    \n",
      "     log_prob 8 1 16 2048 |        \n"
     ]
    }
   ],
   "source": [
    "\n",
    "\n",
    "model = Model(\n",
    "    num_labels=17,\n",
    "    num_difumo_components=128,\n",
    "    num_subjects=16,\n",
    "    num_vertices=5_412,\n",
    "    # num_sessions=2,\n",
    "    device=torch.device('cpu')\n",
    ")\n",
    "\n",
    "idx_val = {\n",
    "    'plate_S': torch.arange(16),\n",
    "    'plate_N': torch.arange(2048),\n",
    "    'plate_T': torch.arange(2)\n",
    "}\n",
    "\n",
    "elbo = TraceEnum_ELBO(max_plate_nesting=3)\n",
    "\n",
    "with pyro.plate('sample', size=8, dim=-4):\n",
    "    foo = config_enumerate(model)(idx=idx_val, device=torch.device('cpu'))\n",
    "    \n",
    "    trace_model = poutine.trace(model).get_trace(data=foo, idx=idx_val, device=torch.device('cpu'))\n",
    "    trace_model.compute_log_prob()\n",
    "    trace_model.compute_score_parts()\n",
    "    model.render_model(data=foo, idx=idx_val)\n",
    "    "
   ]
  },
  {
   "cell_type": "code",
   "execution_count": 13,
   "metadata": {
    "tags": []
   },
   "outputs": [
    {
     "data": {
      "text/plain": [
       "torch.Size([8, 16, 2048, 1])"
      ]
     },
     "execution_count": 13,
     "metadata": {},
     "output_type": "execute_result"
    }
   ],
   "source": [
    "trace_model.nodes['l_s']['value'].shape"
   ]
  },
  {
   "cell_type": "code",
   "execution_count": null,
   "metadata": {},
   "outputs": [],
   "source": []
  }
 ],
 "metadata": {
  "kernelspec": {
   "display_name": "Python 3",
   "language": "python",
   "name": "python3"
  },
  "language_info": {
   "codemirror_mode": {
    "name": "ipython",
    "version": 3
   },
   "file_extension": ".py",
   "mimetype": "text/x-python",
   "name": "python",
   "nbconvert_exporter": "python",
   "pygments_lexer": "ipython3",
   "version": "3.12.2"
  }
 },
 "nbformat": 4,
 "nbformat_minor": 4
}
